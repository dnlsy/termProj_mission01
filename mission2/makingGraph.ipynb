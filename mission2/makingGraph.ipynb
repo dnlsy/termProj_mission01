{
 "cells": [
  {
   "cell_type": "markdown",
   "id": "73e190c4-abef-4c81-9ef5-b67cfa6625a2",
   "metadata": {},
   "source": [
    "# Previous Process (provided)"
   ]
  },
  {
   "cell_type": "markdown",
   "id": "075383cc-7c86-4bd3-af20-55b8b0331282",
   "metadata": {},
   "source": [
    "제시된 Colab 노트북의 가이드에 따라서, CoLab환경에서 아래 내용들을 진행하였다."
   ]
  },
  {
   "cell_type": "markdown",
   "id": "0f773b10-649e-4c0a-a805-617c0cbdd53c",
   "metadata": {},
   "source": [
    "## 1. From annotation data \n",
    "> start codon이 포함된 transcript support level1 인 exon (+strand only)만 추출한다."
   ]
  },
  {
   "cell_type": "markdown",
   "id": "14c53e83-c6a0-4309-be5e-e8d10814b591",
   "metadata": {},
   "source": [
    "start codon들 중에서 TSL1이고 + strand인 transcript_id 추출\n",
    "``` {shell}\n",
    "grep '\tstart_codon\t.*\t+\t.*transcript_support_level \"1\"' gencode.gtf | sed -e 's/\t[^\t]*transcript_id \"\\([^\"]*\\)\".*$/\t\\1/g' > gencode-start.gtf\n",
    "```\n",
    "\n",
    "동일하게 + strand의 exon transcript_id정보들도 추출\n",
    "```{shell}\n",
    "grep '\texon\t.*\t+\t' gencode.gtf | sed -e 's/\t[^\t]*transcript_id \"\\([^\"]*\\)\".*$/\t\\1/g' > gencode-plusexon.gtf\n",
    "```\n",
    "\n",
    "위에서 추출된 start codon과 exon정보들을 transcript_id를 기준으로 통합\n",
    "```{shell}\n",
    "bedtools intersect -a gencode-start.gtf -b gencode-plusexon.gtf -wa -wb | awk -F'\t' -v OFS='\t' '$9 == $18 { print $10, $13-1, $14, $18, $4-1, $16; }' | sort -k1,1 -k2,3n -k4,4 > gencode-exons-containing-startcodon.bed\n",
    "```"
   ]
  },
  {
   "cell_type": "markdown",
   "id": "c60b5235-fb0e-413f-a7eb-1f7fc8d3f343",
   "metadata": {},
   "source": [
    "## 2. From alignment data (RPF siLuc)\n",
    "> siLuc RPF read aligned 데이터에서 5' end 위치 정보를 가져온다."
   ]
  },
  {
   "cell_type": "markdown",
   "id": "8bc49f81-98bd-4772-8f40-8f9ef936331d",
   "metadata": {},
   "source": [
    "먼저 RPF 길이가 너무 짧은 contaminants로 의심되는 read들 filter out\n",
    "(제시된 Colab 노트북에서는 bioawk로 코드가 작성되어있었으나, bioawk가 환경에 마련이 안되있어서 그냥 awk로 코드 수정하여 진행함)\n",
    "```\n",
    "(samtools view -H RPF-siLuc.bam; samtools view -F20 RPF-siLuc.bam | awk '{ if (length($10) >= 25) print $0; }') | samtools view -b -o filtered-RPF-siLuc.bam\n",
    "```\n",
    "\n",
    "그리고 5'end 정보와 coverage depth정보 추출 \n",
    "```\n",
    "bedtools genomecov -ibam filtered-RPF-siLuc.bam -bg -5 > fivepcounts-RPF-siLuc.bed\n",
    "```"
   ]
  },
  {
   "cell_type": "markdown",
   "id": "d9f46d4a-675b-4365-97cd-a446f36a7c30",
   "metadata": {},
   "source": [
    "## 3. merging 1 and 2\n",
    "\n",
    "annotation 데이터에서 추출한 start codon 정보와 RPF 데이터에서 얻어진 5' end 위치 정보를 합쳐서 목적했던 output 얻음\n",
    "```\n",
    "bedtools intersect -a fivepcounts-RPF-siLuc.bed -b gencode-exons-containing-startcodon.bed -wa -wb -nonamecheck > fivepcounts-filtered-RPF-siLuc.txt\n",
    "```"
   ]
  },
  {
   "cell_type": "markdown",
   "id": "47da5a0e-9abe-4678-8853-c4b121188477",
   "metadata": {},
   "source": [
    "# Mission2: Making a Graph as FigS5A"
   ]
  },
  {
   "cell_type": "markdown",
   "id": "5cc4eabd-ae48-4c19-ac1f-cd2b9a4e5fd4",
   "metadata": {},
   "source": [
    "## 1. explore the output file from the previous process"
   ]
  },
  {
   "cell_type": "code",
   "execution_count": 1,
   "id": "b208bdd3-b775-458d-89c7-7455579fb8c1",
   "metadata": {},
   "outputs": [
    {
     "data": {
      "text/plain": [
       "['chr1',\n",
       " '4878048',\n",
       " '4878049',\n",
       " '1',\n",
       " 'chr1',\n",
       " '4878010',\n",
       " '4878205',\n",
       " 'ENSMUST00000134384.8',\n",
       " '4878136',\n",
       " '+\\n']"
      ]
     },
     "execution_count": 1,
     "metadata": {},
     "output_type": "execute_result"
    }
   ],
   "source": [
    "#the whole first line\n",
    "open(\"fivepcounts-filtered-RPF-siLuc.txt\", \"r\").readline().split(\"\\t\")"
   ]
  },
  {
   "cell_type": "code",
   "execution_count": 2,
   "id": "ff68cf8e-4e5c-483b-9f42-b0ac78335b2a",
   "metadata": {},
   "outputs": [
    {
     "data": {
      "text/plain": [
       "-88"
      ]
     },
     "execution_count": 2,
     "metadata": {},
     "output_type": "execute_result"
    }
   ],
   "source": [
    "#relative position\n",
    "int(open(\"fivepcounts-filtered-RPF-siLuc.txt\", \"r\").readline().split(\"\\t\")[1]) - \\\n",
    "int(open(\"fivepcounts-filtered-RPF-siLuc.txt\", \"r\").readline().split(\"\\t\")[8])"
   ]
  },
  {
   "cell_type": "code",
   "execution_count": 3,
   "id": "696c36b4-d6ca-4806-8bda-803083241f91",
   "metadata": {},
   "outputs": [
    {
     "data": {
      "text/plain": [
       "1"
      ]
     },
     "execution_count": 3,
     "metadata": {},
     "output_type": "execute_result"
    }
   ],
   "source": [
    "#coverage_depth\n",
    "int(open(\"fivepcounts-filtered-RPF-siLuc.txt\", \"r\").readline().split(\"\\t\")[3])"
   ]
  },
  {
   "cell_type": "code",
   "execution_count": 4,
   "id": "5ce1b548-bacd-4fa0-8f68-7695145475d1",
   "metadata": {},
   "outputs": [
    {
     "data": {
      "text/plain": [
       "'ENSMUST00000134384.8'"
      ]
     },
     "execution_count": 4,
     "metadata": {},
     "output_type": "execute_result"
    }
   ],
   "source": [
    "#transcript_id\n",
    "open(\"fivepcounts-filtered-RPF-siLuc.txt\", \"r\").readline().split(\"\\t\")[7]"
   ]
  },
  {
   "cell_type": "markdown",
   "id": "84bac929-4200-4295-9e96-8a493bcf2d45",
   "metadata": {},
   "source": [
    "## 2. extract the read count on each relative postion from start codon"
   ]
  },
  {
   "cell_type": "markdown",
   "id": "a03ec425-7132-4922-b03d-e7df226d2332",
   "metadata": {},
   "source": [
    "test to extract the target information"
   ]
  },
  {
   "cell_type": "code",
   "execution_count": 5,
   "id": "9d4a2aed-3721-4874-8bbf-acac43f9e9d5",
   "metadata": {},
   "outputs": [
    {
     "name": "stdout",
     "output_type": "stream",
     "text": [
      "  340499 fivepcounts-filtered-RPF-siLuc.txt\n"
     ]
    }
   ],
   "source": [
    "!wc -l fivepcounts-filtered-RPF-siLuc.txt"
   ]
  },
  {
   "cell_type": "code",
   "execution_count": 6,
   "id": "d7336698-191f-436b-a0c0-08c524396109",
   "metadata": {},
   "outputs": [
    {
     "data": {
      "text/plain": [
       "{-88: 1}"
      ]
     },
     "execution_count": 6,
     "metadata": {},
     "output_type": "execute_result"
    }
   ],
   "source": [
    "#test for the first line\n",
    "dt = {}\n",
    "f = open(\"fivepcounts-filtered-RPF-siLuc.txt\", \"r\")\n",
    "temp = f.readline().split(\"\\t\")\n",
    "relpos_temp = int(temp[1])-int(temp[8])\n",
    "if relpos_temp in dt:\n",
    "    dt[int(temp[1])-int(temp[8])] += int(temp[3])\n",
    "else:\n",
    "    dt[relpos_temp] = int(temp[3])\n",
    "f.close()\n",
    "\n",
    "dt"
   ]
  },
  {
   "cell_type": "code",
   "execution_count": 7,
   "id": "350a743c-0250-4968-b188-955217bf03ea",
   "metadata": {},
   "outputs": [
    {
     "data": {
      "text/plain": [
       "{-88: 2, -59: 3}"
      ]
     },
     "execution_count": 7,
     "metadata": {},
     "output_type": "execute_result"
    }
   ],
   "source": [
    "#test only for first 5 lines\n",
    "dt = {}\n",
    "f = open(\"fivepcounts-filtered-RPF-siLuc.txt\", \"r\")\n",
    "for i in range(5):\n",
    "    temp = f.readline().split(\"\\t\")\n",
    "    relpos_temp = int(temp[1])-int(temp[8])\n",
    "    if relpos_temp in dt:\n",
    "        dt[int(temp[1])-int(temp[8])] += int(temp[3])\n",
    "    else:\n",
    "        dt[relpos_temp] = int(temp[3])\n",
    "f.close()\n",
    "\n",
    "dt"
   ]
  },
  {
   "cell_type": "markdown",
   "id": "2b24e2dd-52b8-4e1f-8051-55de0e04540d",
   "metadata": {},
   "source": [
    "work for the whole 340499 lines"
   ]
  },
  {
   "cell_type": "code",
   "execution_count": 8,
   "id": "a40a05b7-3704-45a9-a8c9-c7a0523a21e7",
   "metadata": {
    "scrolled": true,
    "tags": []
   },
   "outputs": [
    {
     "data": {
      "text/plain": [
       "{-88: 908, -59: 2665, -35: 3571, -33: 3381, -31: 2787}"
      ]
     },
     "execution_count": 8,
     "metadata": {},
     "output_type": "execute_result"
    }
   ],
   "source": [
    "dt = {}\n",
    "f = open(\"fivepcounts-filtered-RPF-siLuc.txt\", \"r\")\n",
    "for i in range(340499):\n",
    "    temp = f.readline().split(\"\\t\")\n",
    "    relpos_temp = int(temp[1])-int(temp[8])\n",
    "    if relpos_temp in dt:\n",
    "        dt[int(temp[1])-int(temp[8])] += int(temp[3])\n",
    "    else:\n",
    "        dt[relpos_temp] = int(temp[3])\n",
    "f.close()\n",
    "\n",
    "dict(list(dt.items())[0:5])"
   ]
  },
  {
   "cell_type": "code",
   "execution_count": 9,
   "id": "e99b657a-b7ad-48b7-89ab-4cc7ccc2f966",
   "metadata": {},
   "outputs": [
    {
     "data": {
      "text/plain": [
       "5669"
      ]
     },
     "execution_count": 9,
     "metadata": {},
     "output_type": "execute_result"
    }
   ],
   "source": [
    "len(dt)"
   ]
  },
  {
   "cell_type": "markdown",
   "id": "67238389-a64c-4a4e-bea8-19656616fedd",
   "metadata": {},
   "source": [
    "filtering from -50 to 50"
   ]
  },
  {
   "cell_type": "code",
   "execution_count": 10,
   "id": "01c905a5-a2ec-4083-a126-fcf8e762c7f0",
   "metadata": {},
   "outputs": [
    {
     "data": {
      "text/plain": [
       "[(-35, 3.571), (-33, 3.381), (-31, 2.787), (-30, 2.585), (-28, 3.097)]"
      ]
     },
     "execution_count": 10,
     "metadata": {},
     "output_type": "execute_result"
    }
   ],
   "source": [
    "dt_ft = [(relPos,readCount/1000) for (relPos,readCount) in dt.items() \\\n",
    "         if relPos>=-50 and relPos<=50]\n",
    "dt_ft[:5]"
   ]
  },
  {
   "cell_type": "code",
   "execution_count": 11,
   "id": "85589290-886c-422b-a5bc-fdf4771e2471",
   "metadata": {},
   "outputs": [
    {
     "name": "stdout",
     "output_type": "stream",
     "text": [
      "(-35, -33, -31, -30, -28)\n",
      "(3.571, 3.381, 2.787, 2.585, 3.097)\n"
     ]
    }
   ],
   "source": [
    "x, y = zip(*dt_ft)\n",
    "print(x[:5])\n",
    "print(y[:5])"
   ]
  },
  {
   "cell_type": "markdown",
   "id": "7eb26475-a443-4c9b-a00e-31f27e3816fb",
   "metadata": {},
   "source": [
    "## 3. graph"
   ]
  },
  {
   "cell_type": "code",
   "execution_count": 12,
   "id": "3b221188-fff4-4c9b-8af6-22afa488e4a5",
   "metadata": {},
   "outputs": [
    {
     "data": {
      "text/plain": [
       "Text(0.5, 0, \"Relative position to start codon of 5'-end of reads\")"
      ]
     },
     "execution_count": 12,
     "metadata": {},
     "output_type": "execute_result"
    },
    {
     "data": {
      "image/png": "[encoded data removed]",
      "text/plain": [
       "<Figure size 864x216 with 1 Axes>"
      ]
     },
     "metadata": {
      "needs_background": "light"
     },
     "output_type": "display_data"
    }
   ],
   "source": [
    "import matplotlib.pyplot as plt\n",
    "import numpy as np\n",
    "\n",
    "fig, ax = plt.subplots(figsize=(12,3))\n",
    "\n",
    "ax.bar(x, y, align=\"edge\")\n",
    "ax.axvline([0], c=\"red\")\n",
    "ax.text(0,50,\"← start codon\", c=\"red\")\n",
    "ax.grid(axis=\"y\", alpha=.5)\n",
    "plt.xticks(np.arange(-50,51,10))\n",
    "plt.ylabel(\"Raw read count\\n(x1000)\")\n",
    "plt.xlabel(\"Relative position to start codon of 5'-end of reads\")"
   ]
  },
  {
   "cell_type": "code",
   "execution_count": null,
   "id": "be6a2a75-a784-4a70-8e0a-aa16c738627f",
   "metadata": {},
   "outputs": [],
   "source": []
  }
 ],
 "metadata": {
  "kernelspec": {
   "display_name": "bilab",
   "language": "python",
   "name": "bilab"
  },
  "language_info": {
   "codemirror_mode": {
    "name": "ipython",
    "version": 3
   },
   "file_extension": ".py",
   "mimetype": "text/x-python",
   "name": "python",
   "nbconvert_exporter": "python",
   "pygments_lexer": "ipython3",
   "version": "3.9.2"
  }
 },
 "nbformat": 4,
 "nbformat_minor": 5
}
