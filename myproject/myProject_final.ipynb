{
 "cells": [
  {
   "cell_type": "markdown",
   "id": "13eb8944-a7ea-4501-87bb-109bba412649",
   "metadata": {},
   "source": [
    "# 데이터 이해하기, 어떻게 분석할지 고민하기, 준비하기"
   ]
  },
  {
   "cell_type": "code",
   "execution_count": null,
   "id": "a6db7914-2ff1-44e8-a939-413eb10a176d",
   "metadata": {},
   "outputs": [],
   "source": [
    "!samtools view ../datapack/CLIP-35L33G.bam | head -6"
   ]
  },
  {
   "cell_type": "code",
   "execution_count": null,
   "id": "dcf25ac2-220e-4171-947c-6abb3697ba2f",
   "metadata": {},
   "outputs": [],
   "source": [
    "# 전체 read 개수\n",
    "!samtools view ../datapack/CLIP-35L33G.bam | wc -l"
   ]
  },
  {
   "cell_type": "markdown",
   "id": "7c33635f-5257-4387-83ac-c667de2e7d0a",
   "metadata": {},
   "source": [
    "* GSNAP 깃헙 readme 설명 중 sam output 에 대한 설명을 읽어보면 `XS:` tag가 splice의 strand orient를 표기한다. splice donor-acceptor 페어가 +/- strand 중 어떤 strand에 매치되는지를 표기하는 듯 하다. splice가 모호하거나 가능성이 낮다고 판단되면 XS:A:+ 혹은 XS:A:-로 표기한다고 나와있다. 일단 새로 alignment를 진행하는 일 없이 `CLIP-35L22G.bam`파일에서 작업을 시작하고 싶으므로, 이 XStag를 사용하여 분석을 진행한다.  "
   ]
  },
  {
   "cell_type": "code",
   "execution_count": null,
   "id": "c4753436-4d13-4d3e-a33a-8df00021785e",
   "metadata": {},
   "outputs": [],
   "source": [
    "# splicing을 포함하는 read의 경우는 XStag가 어떻게 표현되는 지.\n",
    "!samtools view ../datapack/CLIP-35L33G.bam | awk '$6 ~/N/ {print $0}' | grep \"XS:A:+\" | head -3"
   ]
  },
  {
   "cell_type": "markdown",
   "id": "99c710dd-7f33-4525-80d2-107c8fe01e0a",
   "metadata": {},
   "source": [
    "* splicing 있는 read도 그냥 XS:A:?로 표시된다.\n",
    "* 그럼 그냥 XS:A:로 strand구별하면 될까"
   ]
  },
  {
   "cell_type": "code",
   "execution_count": null,
   "id": "d425600c-003f-41bd-94da-65e8000a4851",
   "metadata": {},
   "outputs": [],
   "source": [
    "# 모든 read가 XStag를 가지고 있을까.\n",
    "# 그리고 XS:A:+/-는 각각 몇개씩\n",
    "!samtools view ../datapack/CLIP-35L33G.bam | grep -v 'XS:' | wc -l #XS없는 read\n",
    "!samtools view ../datapack/CLIP-35L33G.bam | grep 'XS:A:+' | wc -l \n",
    "!samtools view ../datapack/CLIP-35L33G.bam | grep 'XS:A:-' | wc -l"
   ]
  },
  {
   "cell_type": "code",
   "execution_count": null,
   "id": "6fa84e3f-77cc-46c8-94d3-9bb04275f95a",
   "metadata": {},
   "outputs": [],
   "source": [
    "(16152362 + 14573778)/ (38880853-8154713) # XS달린 read 중 XS:A:+ 혹은 XS:A:-의 비율"
   ]
  },
  {
   "cell_type": "markdown",
   "id": "5521e7d8-5c45-4f91-a0fa-29f30986ed41",
   "metadata": {},
   "source": [
    "* 결국 이 bam파일에서는 spliced read이거나 아니거나 관계 없이 XS:A:? 태그로 strand orientation을 구분할 수 있음을 알 수 있었다. +strand만으로도 개수가 꽤 많으니 일단 +만 가지고 분석을 진행한다.\n",
    "* 일단 `MD:Z:`부분이 mismatch를 표시하고 있기 때문에, 이 부분의 정보를 가지고 read 위치별 error frequency를 구하는 방법으로 진행한다.\n",
    "1. \"+ strand\" aligned read의 cigar, read length, MDtag만 추출한다.\n",
    "2. 1을 이용하여 5'end쪽의 softclip 에 해당하는 error는 제외한 position(20bins)별 에러 정보를 축적한다.\n",
    "3. 2를 가지고 error frequency 그래프를 error type별로 그린다 (Fig2C).\n",
    "4. 2를 가지고 base-specific error frequency 그래프를 error type별로 그린다 (Fig2D)"
   ]
  },
  {
   "cell_type": "markdown",
   "id": "d427c36c-6905-4129-95ce-a4c2d6169b97",
   "metadata": {},
   "source": [
    "# 1. Extract CIGAR, read length, MD from bam"
   ]
  },
  {
   "cell_type": "markdown",
   "id": "632c6ce0-d2fc-48ee-95b4-2672dc8bb5fc",
   "metadata": {},
   "source": [
    "*일단 XS:A:+인 reads의 cigar ($6), seq length ($10), 그리고 bam의 끝의 metadata부분의 첫번째 열만 일단 가져와본다 (gawk의 gensub 이나 기타 여러가지 다른 방법으로 MD를 다 추출해보려고했는데 계속 잘 안되어서 할수 없이...)\n",
    "```{python}\n",
    "!samtools view ../datapack/CLIP-35L33G.bam | grep \"XS:A:+\" | awk '{print $6\"\\t\"length($10)\"\\t\"$12}' > temp.txt\n",
    "```"
   ]
  },
  {
   "cell_type": "code",
   "execution_count": null,
   "id": "effeee07-5646-4e2f-b1bb-b9d6093ab494",
   "metadata": {},
   "outputs": [],
   "source": [
    "!wc -l temp.txt\n",
    "!grep \"MD:Z:\" temp.txt | wc -l"
   ]
  },
  {
   "cell_type": "markdown",
   "id": "319c9df1-90fe-441c-8b3e-81ed4acbf736",
   "metadata": {},
   "source": [
    "* 아마도 어떤 라인은 MD태그가 12번 열이 아닌 다른 열에 위치하기도 하는 모양이다...\n",
    "* 근데 이 bam파일의 metadata에서의 구분자도 \\t이라서 통째로 추출이 어렵다.\n",
    "* 그냥 몇개 안되니까 MD태그 안잡힌 리드 정보들은 그냥 제외하고 진행한다."
   ]
  },
  {
   "cell_type": "code",
   "execution_count": null,
   "id": "77be35ec-1eef-4fa3-b43b-b24c80a39d29",
   "metadata": {},
   "outputs": [],
   "source": [
    "!grep \"MD:Z:\" temp.txt > CigarLenMD_plus.txt\n",
    "!wc -l CigarLenMD_plus.txt"
   ]
  },
  {
   "cell_type": "markdown",
   "id": "621f63ca-d335-4efa-8337-3912a7bc69c6",
   "metadata": {},
   "source": [
    "# 2. Pileup Errors across Reads"
   ]
  },
  {
   "cell_type": "code",
   "execution_count": null,
   "id": "72b4bcd7-b478-42e4-a2ab-5e54c7c5fd67",
   "metadata": {},
   "outputs": [],
   "source": [
    "import re\n",
    "def Err_eachMDflag(mdflag):\n",
    "    p = re.compile(\"[0-9]+[\\^]*[ACGT]+\")\n",
    "    \n",
    "    temp=[]\n",
    "    errorI = 0\n",
    "    for err in p.findall(mdflag):\n",
    "        matchN = int(re.search(\"[0-9]+\",err).group())\n",
    "        errorI += matchN \n",
    "        errorB = re.search(\"[\\^ACGT]+\", err).group()\n",
    "        temp.append((errorI, errorB))\n",
    "        if errorB.startswith(\"^\"):\n",
    "            errorI -= 1\n",
    "    return temp"
   ]
  },
  {
   "cell_type": "code",
   "execution_count": null,
   "id": "190b0972-d25a-4c6b-a0ed-eb314ddacfff",
   "metadata": {},
   "outputs": [],
   "source": [
    "test = Err_eachMDflag(\"MD:Z:15C15G21\")\n",
    "test"
   ]
  },
  {
   "cell_type": "markdown",
   "id": "6ddcefdb-c87c-43c7-8043-51d1c15de185",
   "metadata": {},
   "source": [
    "* 작성한 함수를 활용하여 결과리스트를 도출하는 과정 테스트"
   ]
  },
  {
   "cell_type": "code",
   "execution_count": null,
   "id": "fe0bc2b1-f524-43a5-96ce-382c2d7f054d",
   "metadata": {},
   "outputs": [],
   "source": [
    "test = [\"CIGAR\\t31\\t18^C13\", \"CIGAR2\\t28\\t28\", \"CIGAR3\\t51\\t15C0G14G21\"]\n",
    "\n",
    "testlist =[]\n",
    "for i in range(20):\n",
    "    testlist.append([])\n",
    "    \n",
    "    \n",
    "for line  in test:\n",
    "    length = int(line.split(\"\\t\")[1])\n",
    "    md = line.split(\"\\t\")[2]\n",
    "    binsize = length//20\n",
    "    errList = Err_eachMDflag(md)\n",
    "    for i, b in errList:\n",
    "        testlist[i//binsize].append(b)\n",
    "\n",
    "testlist"
   ]
  },
  {
   "cell_type": "markdown",
   "id": "bf193075-b7e4-4b79-954d-56eb69b34737",
   "metadata": {},
   "source": [
    "* 본 작업"
   ]
  },
  {
   "cell_type": "code",
   "execution_count": null,
   "id": "7b62ff82-5878-4a8e-9417-5bc94158fb2f",
   "metadata": {},
   "outputs": [],
   "source": [
    "import time\n",
    "start = time.time()\n",
    "\n",
    "reslist =[]\n",
    "for i in range(40): # 나머지를 위해 리스트 길이를 40으로 만들고 결과를 보고 앞뒤를 trim한다.\n",
    "    reslist.append([])\n",
    "\n",
    "f = open(\"CigarLenMD_plus.txt\", \"r\")\n",
    "nline = len(f.readlines())\n",
    "f.seek(0)\n",
    "for i in range(nline):\n",
    "    cigar, readlen, md = f.readline().split(\"\\t\")\n",
    "    softclip = re.findall(\"[0-9]*S\", cigar)\n",
    "    if softclip:\n",
    "        softclip5end = int(softclip[0][:-1]) #drop \"S\" and convert int\n",
    "    else:\n",
    "        pass\n",
    "    binsize = int(readlen)//20\n",
    "    errList = Err_eachMDflag(md)\n",
    "    for i, b in errList:\n",
    "        if i <= softclip5end : #considering only softclip at 5'end\n",
    "            pass\n",
    "        else:\n",
    "            reslist[i//binsize].append(b)\n",
    "f.close()\n",
    "\n",
    "print(\"time: \", time.time() - start)"
   ]
  },
  {
   "cell_type": "code",
   "execution_count": null,
   "id": "fd8d2c67-bc78-4d14-bfab-f245ce0a9974",
   "metadata": {},
   "outputs": [],
   "source": [
    "import numpy as np\n",
    "np.array([len(eachpos) for eachpos in reslist])"
   ]
  },
  {
   "cell_type": "code",
   "execution_count": null,
   "id": "4372071c-b908-4fdc-8ecd-3e1d0d9e033a",
   "metadata": {},
   "outputs": [],
   "source": [
    "import matplotlib.pyplot as plt\n",
    "\n",
    "x = list(range(40))\n",
    "y1 = np.array([len(eachpos) for eachpos in reslist])/nline\n",
    "plt.scatter(x, y1)\t\n",
    "plt.grid(True)\n",
    "plt.show()\t"
   ]
  },
  {
   "cell_type": "markdown",
   "id": "544c2dc6-acce-4ad1-a5a9-2116282cfab1",
   "metadata": {},
   "source": [
    "* 한 3번째 부터 포함해서  20개 bin 이후에 있는 error들은 무시해도 될 듯 하다"
   ]
  },
  {
   "cell_type": "code",
   "execution_count": null,
   "id": "431df4d6-fdcb-46c2-90d9-e209fdfbf8fc",
   "metadata": {},
   "outputs": [],
   "source": [
    "reslist_cut = reslist[3:23]"
   ]
  },
  {
   "cell_type": "markdown",
   "id": "929554e3-007c-4aa5-86c0-cab249c53248",
   "metadata": {},
   "source": [
    "# 3. Error Frequency Graph (FigS2C)"
   ]
  },
  {
   "cell_type": "code",
   "execution_count": null,
   "id": "621ec50f-d30a-4a4f-998f-c79512a074d6",
   "metadata": {},
   "outputs": [],
   "source": [
    "from PIL import Image\n",
    "img1 = Image.open(\"../goal_myproject.png\")\n",
    "dim1 = (0,0,650, 720)\n",
    "crop_img1 = img1.crop(dim1)\n",
    "crop_img1"
   ]
  },
  {
   "cell_type": "code",
   "execution_count": null,
   "id": "353c92f6-02cb-47a8-8f2d-740505d5e56d",
   "metadata": {},
   "outputs": [],
   "source": [
    "DelErrCount = [sum(1 if eacherr.startswith(\"^\") else 0 for eacherr in errPos) \\\n",
    "               for errPos in reslist_cut]\n",
    "SubErrCount = [sum(0 if eacherr.startswith(\"^\") else 1 for eacherr in errPos) \\\n",
    "               for errPos in reslist_cut]"
   ]
  },
  {
   "cell_type": "code",
   "execution_count": null,
   "id": "f33eaf3b-e4c7-44eb-8e50-64f53897f5d1",
   "metadata": {},
   "outputs": [],
   "source": [
    "SubErrFreq =  np.array(SubErrCount)/nline\n",
    "DelErrFreq =  np.array(DelErrCount)/nline"
   ]
  },
  {
   "cell_type": "code",
   "execution_count": null,
   "id": "d366bc90-4515-4db2-adc5-6cfc921d3408",
   "metadata": {},
   "outputs": [],
   "source": [
    "x = list(range(20))\n",
    "y1 = SubErrFreq*100\n",
    "y2 = DelErrFreq*100\n",
    "plt.figure(figsize=(6,6))\n",
    "plt.title(\"Error Frequency across CLIP-seq reads\\n(35L33G)\", size = 15)\n",
    "plt.xlabel(\"Position in tag\", size = 14)\n",
    "plt.ylabel(\"Frequency (percent)\", size = 14)\n",
    "plt.plot(x, y1, \"#E19323\", label= \"Substitution\", linewidth =\"3\")\t\n",
    "plt.plot(x, y2, \"#233C74\", label = \"Deletion\", linewidth = \"3\")\t\n",
    "plt.legend(loc = \"upper right\")\n",
    "plt.xticks([0, 5, 10, 15, 20])\n",
    "plt.tick_params(axis='y', direction='in', length=3, pad=6, labelsize=12)\n",
    "plt.tick_params(axis='x', direction='in', length=3, pad=6, labelsize=0)\n",
    "plt.grid(linestyle='--',alpha = 0.8,linewidth=\"1\")\n",
    "plt.show()\t"
   ]
  },
  {
   "cell_type": "markdown",
   "id": "78a2c899-0c7a-46e7-a75f-9b25c621777b",
   "metadata": {},
   "source": [
    "* 비슷한듯 다른 그래프....이지만 일단 이대로 만족하고\n",
    "* error type별로 base-specific freqeucney도 뽑아보자"
   ]
  },
  {
   "cell_type": "markdown",
   "id": "d8b21be1-f04f-49f2-bf44-d4a642655d53",
   "metadata": {},
   "source": [
    "# 4. Base-specific Error Frequency Graphs (FigS2D)"
   ]
  },
  {
   "cell_type": "markdown",
   "id": "5eb3c512-81dd-455f-b276-016626f2718d",
   "metadata": {},
   "source": [
    "## 4-1. Substitution"
   ]
  },
  {
   "cell_type": "code",
   "execution_count": null,
   "id": "04e4abe1-1df4-4e09-8996-e2c091ef03b6",
   "metadata": {},
   "outputs": [],
   "source": [
    "start = time.time()\n",
    "#리스트컴프리헨션, if함수, join함수 그리고 count한번에 쓰려면 시간이 영원히 걸리더라.\n",
    "#그래서 일단 이렇게 나눠서 진행\n",
    "SubErrlist = [[eacherr for eacherr in errPos if not eacherr.startswith(\"^\")] \\\n",
    "              for errPos in reslist_cut]\n",
    "DelErrlist = [[eacherr for eacherr in errPos if eacherr.startswith(\"^\")] \\\n",
    "              for errPos in reslist_cut]\n",
    "print(time.time()- start)"
   ]
  },
  {
   "cell_type": "code",
   "execution_count": null,
   "id": "851140b0-4c9f-4ff9-87ee-3075e93ba691",
   "metadata": {},
   "outputs": [],
   "source": [
    "start = time.time()\n",
    "\n",
    "SubErrAcount = np.zeros(shape=(20,), dtype=np.int64)\n",
    "SubErrCcount = np.zeros(shape=(20,), dtype=np.int64)\n",
    "SubErrGcount = np.zeros(shape=(20,), dtype=np.int64)\n",
    "SubErrTcount = np.zeros(shape=(20,), dtype=np.int64)\n",
    "for i, errPos in enumerate(SubErrlist):\n",
    "    SubErrAcount[i] = sum(eachErr.count(\"A\") for eachErr in errPos)\n",
    "    SubErrCcount[i] = sum(eachErr.count(\"C\") for eachErr in errPos)\n",
    "    SubErrGcount[i] = sum(eachErr.count(\"G\") for eachErr in errPos)\n",
    "    SubErrTcount[i] = sum(eachErr.count(\"T\") for eachErr in errPos)\n",
    "print(\"time: \", time.time() - start)"
   ]
  },
  {
   "cell_type": "code",
   "execution_count": null,
   "id": "343e2291-2c63-4080-974c-dce498ebfd66",
   "metadata": {},
   "outputs": [],
   "source": [
    "SubErrAfreq = SubErrAcount/nline\n",
    "SubErrCfreq = SubErrCcount/nline\n",
    "SubErrGfreq = SubErrGcount/nline\n",
    "SubErrTfreq = SubErrTcount/nline"
   ]
  },
  {
   "cell_type": "code",
   "execution_count": null,
   "id": "d0aa29c9-5822-4a0a-8abf-7cdecd11a8b0",
   "metadata": {},
   "outputs": [],
   "source": [
    "x = list(range(20))\n",
    "y1 = SubErrAfreq*100\n",
    "y2 = SubErrCfreq*100\n",
    "y3 = SubErrGfreq*100\n",
    "y4 = SubErrTfreq*100\n",
    "plt.figure(figsize=(6,6))\n",
    "plt.title(\"Base-Specific Error Frequency across CLIP-seq reads\\n(35L33G, Substitution)\", size = 15)\n",
    "plt.xlabel(\"Position in tag\", size = 14)\n",
    "plt.ylabel(\"Frequency (percent)\", size = 14)\n",
    "plt.plot(x, y1, \"#233C74\", label = \"A\")\t\n",
    "plt.plot(x, y2, \"#4C842C\", label = \"C\") \n",
    "plt.plot(x, y3, \"#E19323\", label = \"G\")\n",
    "plt.plot(x, y4, \"#AB111B\", label = \"U\")\n",
    "plt.legend(loc = \"upper right\")\n",
    "plt.xticks([0, 5, 10, 15, 20])\n",
    "plt.tick_params(axis='y', direction='in', length=3, pad=6, labelsize=12)\n",
    "plt.tick_params(axis='x', direction='in', length=3, pad=6, labelsize=0)\n",
    "plt.grid(linestyle='--',alpha = 0.8,linewidth=\"1\")\n",
    "plt.show()\t"
   ]
  },
  {
   "cell_type": "markdown",
   "id": "d8e1eb13-7dca-4513-b606-13986dbb1355",
   "metadata": {},
   "source": [
    "# 4-2. Deletion"
   ]
  },
  {
   "cell_type": "code",
   "execution_count": null,
   "id": "3907c2f1-f498-49fc-b310-40f59d5799cf",
   "metadata": {},
   "outputs": [],
   "source": [
    "start = time.time()\n",
    "DelErrAcount = np.zeros(shape=(20,), dtype=np.int64)\n",
    "DelErrCcount = np.zeros(shape=(20,), dtype=np.int64)\n",
    "DelErrGcount = np.zeros(shape=(20,), dtype=np.int64)\n",
    "DelErrTcount = np.zeros(shape=(20,), dtype=np.int64)\n",
    "for i, errPos in enumerate(DelErrlist):\n",
    "    DelErrAcount[i] = sum(eachErr.count(\"A\") for eachErr in errPos)\n",
    "    DelErrCcount[i] = sum(eachErr.count(\"C\") for eachErr in errPos)\n",
    "    DelErrGcount[i] = sum(eachErr.count(\"G\") for eachErr in errPos)\n",
    "    DelErrTcount[i] = sum(eachErr.count(\"T\") for eachErr in errPos)\n",
    "print(\"time: \", time.time() - start)"
   ]
  },
  {
   "cell_type": "code",
   "execution_count": null,
   "id": "9c6b0bf8-cd4d-441b-b37b-ab77e01676a4",
   "metadata": {},
   "outputs": [],
   "source": [
    "DelErrAfreq = DelErrAcount/nline\n",
    "DelErrCfreq = DelErrCcount/nline\n",
    "DelErrGfreq = DelErrGcount/nline\n",
    "DelErrTfreq = DelErrTcount/nline"
   ]
  },
  {
   "cell_type": "code",
   "execution_count": null,
   "id": "24d2205d-bdd9-49fa-8c2f-68ce69bb42da",
   "metadata": {},
   "outputs": [],
   "source": [
    "x = list(range(20))\n",
    "y1 = DelErrAfreq*100\n",
    "y2 = DelErrCfreq*100\n",
    "y3 = DelErrGfreq*100\n",
    "y4 = DelErrTfreq*100\n",
    "plt.figure(figsize=(6,6))\n",
    "plt.title(\"Base-Specific Error Frequency across CLIP-seq reads\\n(35L33G, Deletion)\", size = 15)\n",
    "plt.xlabel(\"Position in tag\", size = 14)\n",
    "plt.ylabel(\"Frequency (percent)\", size = 14)\n",
    "plt.plot(x, y1, \"#233C74\", label = \"A\")\t\n",
    "plt.plot(x, y2, \"#4C842C\", label = \"C\") \n",
    "plt.plot(x, y3, \"#E19323\", label = \"G\")\n",
    "plt.plot(x, y4, \"#AB111B\", label = \"U\")\n",
    "plt.legend(loc = \"upper right\")\n",
    "plt.xticks([0, 5, 10, 15, 20])\n",
    "plt.tick_params(axis='y', direction='in', length=3, pad=6, labelsize=12)\n",
    "plt.tick_params(axis='x', direction='in', length=3, pad=6, labelsize=0)\n",
    "plt.grid(linestyle='--',alpha = 0.8,linewidth=\"1\")\n",
    "plt.show()\t"
   ]
  },
  {
   "cell_type": "code",
   "execution_count": null,
   "id": "6f68c68c-a6e3-41d2-9fc0-4facbdc04d91",
   "metadata": {},
   "outputs": [],
   "source": []
  },
  {
   "cell_type": "code",
   "execution_count": null,
   "id": "0e55db46-c469-4b89-8778-83c92bd59e45",
   "metadata": {},
   "outputs": [],
   "source": []
  },
  {
   "cell_type": "code",
   "execution_count": null,
   "id": "53ae6e26-74b2-4189-b18a-a9b1587fe0e2",
   "metadata": {},
   "outputs": [],
   "source": []
  },
  {
   "cell_type": "code",
   "execution_count": null,
   "id": "ea1dbda4-5918-48b3-80bf-489c61ebdb6e",
   "metadata": {},
   "outputs": [],
   "source": []
  },
  {
   "cell_type": "code",
   "execution_count": null,
   "id": "268a6819-ca9c-4edd-8430-823aae837fe5",
   "metadata": {},
   "outputs": [],
   "source": []
  },
  {
   "cell_type": "code",
   "execution_count": null,
   "id": "d04aa9d9-9671-479e-999f-9dc2b7a3c7d6",
   "metadata": {},
   "outputs": [],
   "source": []
  },
  {
   "cell_type": "code",
   "execution_count": null,
   "id": "960090c2-639f-494b-8f50-07d853e82b76",
   "metadata": {},
   "outputs": [],
   "source": []
  },
  {
   "cell_type": "code",
   "execution_count": null,
   "id": "276fbe35-01cf-43ed-937d-9248c11b48fc",
   "metadata": {},
   "outputs": [],
   "source": []
  },
  {
   "cell_type": "code",
   "execution_count": null,
   "id": "4d46246c-ea6b-411c-b792-8a67e6ab2d78",
   "metadata": {},
   "outputs": [],
   "source": []
  },
  {
   "cell_type": "markdown",
   "id": "62fca678-1c26-448e-bf3e-aff0414dbe0b",
   "metadata": {},
   "source": [
    "## Think more"
   ]
  },
  {
   "cell_type": "markdown",
   "id": "c3f98f7c-6047-4c2c-a712-eee9f518c469",
   "metadata": {},
   "source": [
    "* 이번에는 insertion 에러는 다루지 않고 각 error의 read상에서 postion을 파일업 할 때도 insertion은 무시하였다. 시작 포인트로 사용한 bam파일에서 Insertion error의 base정보를 알수가 없었기 때문이다. 그러나 이 insertion 어느정도로 많은지, 정말 무시해도 될 정도인지는 확인하는게 좋을 것같다."
   ]
  },
  {
   "cell_type": "code",
   "execution_count": null,
   "id": "404397ef-351a-420f-9302-f090c895e2e1",
   "metadata": {},
   "outputs": [],
   "source": [
    "!samtools view ../datapack/CLIP-35L33G.bam | cut -f 6 | grep \"I\" | wc -l"
   ]
  },
  {
   "cell_type": "code",
   "execution_count": null,
   "id": "665d6d1c-e0ae-4fdd-aa05-8f283afea82f",
   "metadata": {},
   "outputs": [],
   "source": [
    "print(80873/38880853)"
   ]
  },
  {
   "cell_type": "markdown",
   "id": "fc071bcf-1240-4284-b415-9e1df49796c7",
   "metadata": {},
   "source": [
    "* sam파일 매뉴얼에 없는 MD tag가 발견되어, 이렇게 MD가 표기된 read의 다른 정보들은 어떨지 잠깐 살펴본다."
   ]
  },
  {
   "cell_type": "code",
   "execution_count": null,
   "id": "20e2e8d6-5c54-4813-9729-f32a7a6ab6d9",
   "metadata": {},
   "outputs": [],
   "source": [
    "!samtools view ../datapack/CLIP-35L33G.bam | grep \"MD:Z:0CTG\" | head -6"
   ]
  },
  {
   "cell_type": "markdown",
   "id": "7265f372-5f22-4aa8-a0b6-6553b17659a4",
   "metadata": {},
   "source": [
    "* 위 결과를 보면 CIGAR가 40M이니 다른 종류의 error는 아닌 것 같다. 그리고 `MD:Z:0CTG37`이랑 `NM:i:3`을 보니까 `MD:Z:0C0T0G37`이랑 동일한 상황인거같다.\n",
    "* 아니면 혹시 이 alignmnet에서는 연속으로 substitution error가 발생했을 때,`[0-9]+[ACTG]0[ACTG]`같은 식의 표현을 사용하지 않고 `[0-9]+[ACTG]+`로 표시하는 걸까 확인해봤는데 그렇지도 않다."
   ]
  },
  {
   "cell_type": "code",
   "execution_count": null,
   "id": "0fe6bd47-7379-4779-94af-09b178b905de",
   "metadata": {},
   "outputs": [],
   "source": [
    "!samtools view ../datapack/CLIP-35L33G.bam | grep \"MD:Z:.*[0-9][ACGT][0][ACGT]\" | head -3"
   ]
  },
  {
   "cell_type": "code",
   "execution_count": null,
   "id": "2cee3cb0-b20a-4f6b-ba53-ba2d6f33945c",
   "metadata": {},
   "outputs": [],
   "source": []
  }
 ],
 "metadata": {
  "kernelspec": {
   "display_name": "bilab",
   "language": "python",
   "name": "bilab"
  },
  "language_info": {
   "codemirror_mode": {
    "name": "ipython",
    "version": 3
   },
   "file_extension": ".py",
   "mimetype": "text/x-python",
   "name": "python",
   "nbconvert_exporter": "python",
   "pygments_lexer": "ipython3",
   "version": "3.9.2"
  },
  "toc": {
   "base_numbering": 1,
   "nav_menu": {},
   "number_sections": true,
   "sideBar": true,
   "skip_h1_title": false,
   "title_cell": "Table of Contents",
   "title_sidebar": "Contents",
   "toc_cell": false,
   "toc_position": {},
   "toc_section_display": true,
   "toc_window_display": false
  }
 },
 "nbformat": 4,
 "nbformat_minor": 5
}
