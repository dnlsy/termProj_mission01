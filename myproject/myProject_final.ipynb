{
 "cells": [
  {
   "cell_type": "code",
   "execution_count": 1,
   "id": "a6db7914-2ff1-44e8-a939-413eb10a176d",
   "metadata": {},
   "outputs": [
    {
     "name": "stdout",
     "output_type": "stream",
     "text": [
      "SRR458758.23028115\t0\tchr1\t3056473\t0\t20M\t*\t0\t0\tGAATGGAAGTTCAAGGATCT\tHHGHHGE@GGHHED?GEGDG\tMD:Z:20\tNH:i:40\tHI:i:1\tNM:i:0\tSM:i:0\tXQ:i:40\tX2:i:40\tXO:Z:UM\tXS:A:-\n",
      "SRR458758.23879202\t0\tchr1\t3056473\t0\t20M\t*\t0\t0\tGAATGGAAGTTCAAGGATCT\tGBGGEEAAF=CEEDEGBGG>\tMD:Z:20\tNH:i:40\tHI:i:1\tNM:i:0\tSM:i:0\tXQ:i:40\tX2:i:40\tXO:Z:UM\tXS:A:-\n",
      "SRR458758.23893532\t0\tchr1\t3056473\t0\t20M\t*\t0\t0\tGAATGGAAGTTCAAGGATCT\tG@?GGE=EFBDDGGGGD@GG\tMD:Z:20\tNH:i:40\tHI:i:1\tNM:i:0\tSM:i:0\tXQ:i:40\tX2:i:40\tXO:Z:UM\tXS:A:-\n",
      "SRR458758.26501547\t0\tchr1\t3056473\t0\t20M\t*\t0\t0\tGAATGGAAGTTCAAGGATCT\tIIIHIIIHIGHIIIHEHIHH\tMD:Z:20\tNH:i:40\tHI:i:1\tNM:i:0\tSM:i:0\tXQ:i:40\tX2:i:40\tXO:Z:UM\tXS:A:-\n",
      "SRR458758.685997\t16\tchr1\t3059006\t0\t22M\t*\t0\t0\tTTCATTTACAGAATGGAATACT\tEG7:776DGGGBD<GGEBGEG@\tMD:Z:22\tNH:i:30\tHI:i:1\tNM:i:0\tSM:i:0\tXQ:i:40\tX2:i:40\tXO:Z:UM\tXS:A:+\n",
      "SRR458758.12045118\t16\tchr1\t3059006\t0\t22M\t*\t0\t0\tTTCATTTACAGAATGGAATACT\tIFGIDDIHIHEIIIIIIIIHBI\tMD:Z:22\tNH:i:30\tHI:i:1\tNM:i:0\tSM:i:0\tXQ:i:40\tX2:i:40\tXO:Z:UM\tXS:A:+\n",
      "samtools view: writing to standard output failed: Broken pipe\n",
      "samtools view: error closing standard output: -1\n"
     ]
    }
   ],
   "source": [
    "!samtools view ../datapack/CLIP-35L33G.bam | head -6"
   ]
  },
  {
   "cell_type": "code",
   "execution_count": 3,
   "id": "c1df71eb-71f9-4c57-b56c-7255bd2f9e23",
   "metadata": {},
   "outputs": [
    {
     "name": "stdout",
     "output_type": "stream",
     "text": [
      "1285348 20\n",
      "1203488 21\n",
      "1202998 22\n",
      "1217558 23\n",
      "1355585 24\n",
      "1332303 25\n",
      "1429981 26\n",
      "1365067 27\n",
      "1296198 28\n",
      "1324274 29\n",
      "1237459 30\n",
      "1123536 31\n",
      "1139511 32\n",
      "1185578 33\n",
      "1044415 34\n",
      "1073551 35\n",
      "1066277 36\n",
      "1053737 37\n",
      "1195614 38\n",
      "1214512 39\n",
      "1675861 40\n",
      "800662 41\n",
      "758539 42\n",
      "703073 43\n",
      "710768 44\n",
      "801734 45\n",
      "983530 46\n",
      "608376 47\n",
      "612593 48\n",
      "679513 49\n",
      "840256 50\n",
      "471328 51\n",
      "432443 52\n",
      "399847 53\n",
      "396185 54\n",
      "304426 55\n",
      "295200 56\n",
      "275327 57\n",
      "239794 58\n",
      "252191 59\n",
      "304281 60\n",
      "233741 61\n",
      "225995 62\n",
      "173815 63\n",
      "157092 64\n",
      "146175 65\n",
      "134258 66\n",
      "110824 67\n",
      "103110 68\n",
      "90087 69\n",
      "91805 70\n",
      "85594 71\n",
      "80883 72\n",
      "83219 73\n",
      "121198 74\n",
      "150140 75\n"
     ]
    }
   ],
   "source": [
    "!samtools view ../datapack/CLIP-35L33G.bam | \\\n",
    " awk '{print length($10)}' | sort | uniq -c"
   ]
  },
  {
   "cell_type": "markdown",
   "id": "03922e35-ac78-4c44-9e00-cc660dddff0a",
   "metadata": {},
   "source": [
    "* 일단 `MD:Z:`부분이 mismatch를 표시하고 있기 때문에, 이 부분의 정보를 가지고 read 위치별 error frequency를 구하는 코드를 작성해 본다.\n",
    "* 전체 CLIPseq reads 의 길이는 20~75 정도이므로, 길이 80인 빈 리스트 `reslist`를 마련해 두고, mdflag에 표기되어있는 error를 순차적으로 추출하여 `reslist`에 저장한다. 각 read의 5'-end 의 첫번째 base 위치가 `reslist`의 0위치에 해당한다."
   ]
  },
  {
   "cell_type": "code",
   "execution_count": 9,
   "id": "14a2051e-b6da-431e-b317-c44c0befd783",
   "metadata": {},
   "outputs": [],
   "source": [
    "reslist =[]\n",
    "for i in range(80):\n",
    "    reslist.append([])"
   ]
  },
  {
   "cell_type": "code",
   "execution_count": 2,
   "id": "dcf25ac2-220e-4171-947c-6abb3697ba2f",
   "metadata": {},
   "outputs": [
    {
     "name": "stdout",
     "output_type": "stream",
     "text": [
      " 38880853\n"
     ]
    }
   ],
   "source": [
    "!samtools view ../datapack/CLIP-35L33G.bam | wc -l"
   ]
  },
  {
   "cell_type": "markdown",
   "id": "fa552e86-34fa-45a7-95f5-c0b25302fe7b",
   "metadata": {},
   "source": [
    "* 혹시 모르니 한번 랜덤으로 생성한 MDflag 예제로 테스트를 해본다"
   ]
  },
  {
   "cell_type": "code",
   "execution_count": 10,
   "id": "bdef3d65-99af-41b6-988a-8d5a1c5b13b0",
   "metadata": {},
   "outputs": [
    {
     "data": {
      "text/plain": [
       "[(16, 'G'), (21, 'C'), (52, '^CC'), (53, 'A')]"
      ]
     },
     "execution_count": 10,
     "metadata": {},
     "output_type": "execute_result"
    }
   ],
   "source": [
    "import re\n",
    "\n",
    "# regex pattern to split MDflag by each error\n",
    "p = re.compile(\"[0-9]+[\\^]*[ACGT]+\")\n",
    "\n",
    "# test to get error information from one MDflag (one line in BAM)\n",
    "mdflag = \"15G4C30^CC0A18\" # MDflag example\n",
    "\n",
    "temp = []\n",
    "errorI = 0\n",
    "for err in p.findall(mdflag):\n",
    "    matchN = int(re.search(\"[0-9]+\",err).group())\n",
    "    errorI += matchN + 1\n",
    "    errorB = re.search(\"[\\^ACGT]+\", err).group()\n",
    "    temp.append((errorI, errorB))\n",
    "temp"
   ]
  },
  {
   "cell_type": "markdown",
   "id": "c5c7ba29-9057-4a4d-9c3b-623eaee38c4c",
   "metadata": {},
   "source": [
    "* 각 라인별로 MDflag를 추출하면 거기서 각각의 error 위치와 뉴크레오타이드를 튜플 리스트로 추출해줄 함수를 작성한다."
   ]
  },
  {
   "cell_type": "code",
   "execution_count": 11,
   "id": "cc04ee4f-f74c-458f-af92-4d47e4688507",
   "metadata": {},
   "outputs": [],
   "source": [
    "def Err_eachMDflag(mdflag):\n",
    "    p = re.compile(\"[0-9]+[\\^]*[ACGT]+\")\n",
    "    \n",
    "    temp=[]\n",
    "    errorI = 0\n",
    "    for err in p.findall(mdflag):\n",
    "        matchN = int(re.search(\"[0-9]+\",err).group())\n",
    "        errorI += matchN + 1\n",
    "        errorB = re.search(\"[\\^ACGT]+\", err).group()\n",
    "        temp.append((errorI, errorB))\n",
    "    return temp"
   ]
  },
  {
   "cell_type": "markdown",
   "id": "9c6dd98d-c18b-49a7-8e85-6833df1e007b",
   "metadata": {},
   "source": [
    "* 작성한 함수를 활용하여 결과리스트를 도출하는 과정 테스트"
   ]
  },
  {
   "cell_type": "code",
   "execution_count": 19,
   "id": "92b76c43-d3a5-4ba8-be38-040f98bf9f53",
   "metadata": {},
   "outputs": [
    {
     "data": {
      "text/plain": [
       "[['A'],\n",
       " [],\n",
       " [],\n",
       " [],\n",
       " [],\n",
       " ['G'],\n",
       " [],\n",
       " [],\n",
       " ['^CC', 'A'],\n",
       " ['C'],\n",
       " [],\n",
       " [],\n",
       " [],\n",
       " [],\n",
       " [],\n",
       " [],\n",
       " [],\n",
       " [],\n",
       " [],\n",
       " []]"
      ]
     },
     "execution_count": 19,
     "metadata": {},
     "output_type": "execute_result"
    }
   ],
   "source": [
    "test = [\"5G2^CC10\", \"20\", \"8A0C8\", \"0A16\"]\n",
    "\n",
    "testlist =[]\n",
    "for i in range(20):\n",
    "    testlist.append([])\n",
    "    \n",
    "    \n",
    "for eachMD in test:\n",
    "    errList = Err_eachMDflag(eachMD)\n",
    "    for i, b in errList:\n",
    "        testlist[i-1].append(b)\n",
    "\n",
    "testlist"
   ]
  },
  {
   "cell_type": "markdown",
   "id": "9118e21f-03ed-4aed-b6c9-3ab2476eb26c",
   "metadata": {},
   "source": [
    "* 원래의 `CLIP-35L33G.bam`파일은 너무 크기 때문에, 가장 작은 chrM만 가지고 연습을 해보기로하였다."
   ]
  },
  {
   "cell_type": "code",
   "execution_count": 6,
   "id": "11881429-cd0b-4980-ad00-0db508dc4858",
   "metadata": {},
   "outputs": [
    {
     "name": "stdout",
     "output_type": "stream",
     "text": [
      "SRR458758.537185\t0\tchrM\t4\t39\t24M\t*\t0\t0\tAATGTGGCTTAATAACAAAGCAAA\tBGGGGHHHHHHHHHGBBGGGHDHH\tMD:Z:5A18\tNH:i:1\tHI:i:1\tNM:i:1\tSM:i:39\tXQ:i:40\tX2:i:0\tXO:Z:UU\tXS:A:+\tXY:Z:+ENSMUST00000082387.1:4..27\n",
      "SRR458758.2572947\t0\tchrM\t4\t39\t24M\t*\t0\t0\tAATGTGGCTTAATAACAAAGCAAA\tHDHGHHFFHHBBGGGFFDGDDHHH\tMD:Z:5A18\tNH:i:1\tHI:i:1\tNM:i:1\tSM:i:39\tXQ:i:40\tX2:i:0\tXO:Z:UU\tXS:A:+\tXY:Z:+ENSMUST00000082387.1:4..27\n",
      "SRR458758.7266053\t0\tchrM\t4\t38\t24M\t*\t0\t0\tAATGTGGCTTAATAACAAAGCAAA\t=D@DGCBDGDGDDDGGEGDADDED\tMD:Z:5A18\tNH:i:1\tHI:i:1\tNM:i:1\tSM:i:38\tXQ:i:40\tX2:i:0\tXO:Z:UU\tXS:A:+\tXY:Z:+ENSMUST00000082387.1:4..27\n",
      "samtools view: writing to standard output failed: Broken pipe\n",
      "samtools view: error closing standard output: -1\n"
     ]
    }
   ],
   "source": [
    "!samtools view -b -o CLIP-chrM.bam ../datapack/CLIP-35L33G.bam chrM\n",
    "!samtools view CLIP-chrM.bam | head -3"
   ]
  },
  {
   "cell_type": "code",
   "execution_count": 22,
   "id": "745dc07b-c3ce-43f5-836c-0cfa886d7ad6",
   "metadata": {},
   "outputs": [
    {
     "name": "stdout",
     "output_type": "stream",
     "text": [
      "5A18\n",
      "5A18\n",
      "5A18\n",
      "5A32\n",
      "5A18\n",
      "5A18\n",
      "5A32\n",
      "5A32\n",
      "5A32\n",
      "5A32\n",
      "sed: stdout: Broken pipe\n"
     ]
    }
   ],
   "source": [
    "!samtools view -h CLIP-chrM.bam | grep \"MD:Z:\" | sed 's/.*MD:Z:\\([ACGTI^0-9]*\\).*/\\1/' | head"
   ]
  },
  {
   "cell_type": "code",
   "execution_count": null,
   "id": "9d654d2a-7670-4792-b42a-c91663f4a76b",
   "metadata": {},
   "outputs": [],
   "source": []
  },
  {
   "cell_type": "code",
   "execution_count": null,
   "id": "522563c3-d9ee-42ac-b162-a11218bafb7b",
   "metadata": {},
   "outputs": [],
   "source": []
  },
  {
   "cell_type": "code",
   "execution_count": null,
   "id": "d7f9c135-1d64-4bcb-a722-dfda3c842837",
   "metadata": {},
   "outputs": [],
   "source": []
  },
  {
   "cell_type": "code",
   "execution_count": null,
   "id": "6c12de1e-e2d7-44a3-9d94-cf4fb0ebcb90",
   "metadata": {},
   "outputs": [],
   "source": []
  },
  {
   "cell_type": "code",
   "execution_count": null,
   "id": "493b87e1-51a0-4af0-8bc9-985cfee6c138",
   "metadata": {},
   "outputs": [],
   "source": []
  }
 ],
 "metadata": {
  "kernelspec": {
   "display_name": "bilab",
   "language": "python",
   "name": "bilab"
  },
  "language_info": {
   "codemirror_mode": {
    "name": "ipython",
    "version": 3
   },
   "file_extension": ".py",
   "mimetype": "text/x-python",
   "name": "python",
   "nbconvert_exporter": "python",
   "pygments_lexer": "ipython3",
   "version": "3.9.2"
  }
 },
 "nbformat": 4,
 "nbformat_minor": 5
}
