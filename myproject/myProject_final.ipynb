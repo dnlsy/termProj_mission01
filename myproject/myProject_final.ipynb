{
 "cells": [
  {
   "cell_type": "markdown",
   "id": "13eb8944-a7ea-4501-87bb-109bba412649",
   "metadata": {},
   "source": [
    "# 데이터 이해하기, 어떻게 분석할지 고민하기, 준비하기"
   ]
  },
  {
   "cell_type": "code",
   "execution_count": 1,
   "id": "a6db7914-2ff1-44e8-a939-413eb10a176d",
   "metadata": {},
   "outputs": [
    {
     "name": "stdout",
     "output_type": "stream",
     "text": [
      "SRR458758.23028115\t0\tchr1\t3056473\t0\t20M\t*\t0\t0\tGAATGGAAGTTCAAGGATCT\tHHGHHGE@GGHHED?GEGDG\tMD:Z:20\tNH:i:40\tHI:i:1\tNM:i:0\tSM:i:0\tXQ:i:40\tX2:i:40\tXO:Z:UM\tXS:A:-\n",
      "SRR458758.23879202\t0\tchr1\t3056473\t0\t20M\t*\t0\t0\tGAATGGAAGTTCAAGGATCT\tGBGGEEAAF=CEEDEGBGG>\tMD:Z:20\tNH:i:40\tHI:i:1\tNM:i:0\tSM:i:0\tXQ:i:40\tX2:i:40\tXO:Z:UM\tXS:A:-\n",
      "SRR458758.23893532\t0\tchr1\t3056473\t0\t20M\t*\t0\t0\tGAATGGAAGTTCAAGGATCT\tG@?GGE=EFBDDGGGGD@GG\tMD:Z:20\tNH:i:40\tHI:i:1\tNM:i:0\tSM:i:0\tXQ:i:40\tX2:i:40\tXO:Z:UM\tXS:A:-\n",
      "SRR458758.26501547\t0\tchr1\t3056473\t0\t20M\t*\t0\t0\tGAATGGAAGTTCAAGGATCT\tIIIHIIIHIGHIIIHEHIHH\tMD:Z:20\tNH:i:40\tHI:i:1\tNM:i:0\tSM:i:0\tXQ:i:40\tX2:i:40\tXO:Z:UM\tXS:A:-\n",
      "SRR458758.685997\t16\tchr1\t3059006\t0\t22M\t*\t0\t0\tTTCATTTACAGAATGGAATACT\tEG7:776DGGGBD<GGEBGEG@\tMD:Z:22\tNH:i:30\tHI:i:1\tNM:i:0\tSM:i:0\tXQ:i:40\tX2:i:40\tXO:Z:UM\tXS:A:+\n",
      "SRR458758.12045118\t16\tchr1\t3059006\t0\t22M\t*\t0\t0\tTTCATTTACAGAATGGAATACT\tIFGIDDIHIHEIIIIIIIIHBI\tMD:Z:22\tNH:i:30\tHI:i:1\tNM:i:0\tSM:i:0\tXQ:i:40\tX2:i:40\tXO:Z:UM\tXS:A:+\n",
      "samtools view: writing to standard output failed: Broken pipe\n",
      "samtools view: error closing standard output: -1\n"
     ]
    }
   ],
   "source": [
    "!samtools view ../datapack/CLIP-35L33G.bam | head -6"
   ]
  },
  {
   "cell_type": "code",
   "execution_count": 2,
   "id": "dcf25ac2-220e-4171-947c-6abb3697ba2f",
   "metadata": {},
   "outputs": [
    {
     "name": "stdout",
     "output_type": "stream",
     "text": [
      " 38880853\n"
     ]
    }
   ],
   "source": [
    "!samtools view ../datapack/CLIP-35L33G.bam | wc -l"
   ]
  },
  {
   "cell_type": "markdown",
   "id": "39145e1f-daa9-4591-8315-31000e2d792a",
   "metadata": {},
   "source": [
    "* 일단 `MD:Z:`부분이 mismatch를 표시하고 있기 때문에, 이 부분의 정보를 가지고 read 위치별 error frequency를 구하는 방법으로 진행한다.\n",
    "1. read length별 read count정보를 통하여 각 read idex별로 total base count를 구한다.\n",
    "2. 38880853 개의 read alignmnet정보에서 각 MD tag를 추출한다.\n",
    "3. MD에서 지시하고 있는 error index별 error base 정보를 모은다. \n",
    "4. 1과 3을 이용하여 index별 error frequency를 구한다."
   ]
  },
  {
   "cell_type": "markdown",
   "id": "9c6cbd41-5977-485d-9b61-2144c6c8ecfc",
   "metadata": {},
   "source": [
    "## total counts for each read index"
   ]
  },
  {
   "cell_type": "markdown",
   "id": "d4b9bdc1-fd79-4634-8ace-73eaa711510d",
   "metadata": {},
   "source": [
    "```{python}\n",
    "!samtools view ../datapack/CLIP-35L33G.bam | \\\n",
    " awk '{print length($10)}' | sort | uniq -c | awk '{print $2\",\"$1}' > wholeReadlen.txt\n",
    " ```"
   ]
  },
  {
   "cell_type": "code",
   "execution_count": 2,
   "id": "e3f96217-b9a5-4364-ad0f-61272b057a5e",
   "metadata": {},
   "outputs": [
    {
     "name": "stdout",
     "output_type": "stream",
     "text": [
      "20,1285348\n",
      "21,1203488\n",
      "22,1202998\n",
      "73,83219\n",
      "74,121198\n",
      "75,150140\n"
     ]
    }
   ],
   "source": [
    "!head -3 wholeReadlen.txt\n",
    "!tail -3 wholeReadlen.txt"
   ]
  },
  {
   "cell_type": "markdown",
   "id": "2366fc71-b0f1-4eda-b410-d0478536257c",
   "metadata": {},
   "source": [
    "* 가장 짧은 read가 20정도, 가장 긴 read가 75정도이다.\n",
    "* 그래서 길이가ㅏ 80정도되는 빈리스트를 만들어서 각 read position index별로 count값을 담아본다."
   ]
  },
  {
   "cell_type": "code",
   "execution_count": 4,
   "id": "7dd76f34-59c6-4e30-8f88-6fc66d6e3e3c",
   "metadata": {},
   "outputs": [
    {
     "data": {
      "text/plain": [
       "['20', '1285348\\n']"
      ]
     },
     "execution_count": 4,
     "metadata": {},
     "output_type": "execute_result"
    }
   ],
   "source": [
    "open(\"wholeReadlen.txt\", \"r\").readline().split(\",\")"
   ]
  },
  {
   "cell_type": "code",
   "execution_count": 5,
   "id": "cebc1406-d4d0-4cf3-84db-e5c172d646eb",
   "metadata": {},
   "outputs": [
    {
     "data": {
      "text/plain": [
       "56"
      ]
     },
     "execution_count": 5,
     "metadata": {},
     "output_type": "execute_result"
    }
   ],
   "source": [
    "len(open(\"wholeReadlen.txt\", \"r\").readlines())"
   ]
  },
  {
   "cell_type": "code",
   "execution_count": 7,
   "id": "5870736b-24f8-494f-b552-79a88c00f25c",
   "metadata": {
    "scrolled": true,
    "tags": []
   },
   "outputs": [
    {
     "data": {
      "text/plain": [
       "[85594, 80883, 83219, 121198, 150140, [], [], [], [], []]"
      ]
     },
     "execution_count": 7,
     "metadata": {},
     "output_type": "execute_result"
    }
   ],
   "source": [
    "totalPosCountlist =[]\n",
    "for i in range(80):\n",
    "    totalPosCountlist.append([])\n",
    "\n",
    "lenf = open(\"wholeReadlen.txt\", \"r\")\n",
    "for i in range(56):\n",
    "    readlen, readnum = lenf.readline().split(\",\")\n",
    "    totalPosCountlist[int(readlen)-1] = int(readnum)\n",
    "\n",
    "lenf.close()\n",
    "\n",
    "# put same value till position 20\n",
    "for i in range(20):\n",
    "    totalPosCountlist[i] = 1285348\n",
    "\n",
    "totalPosCountlist[70:]"
   ]
  },
  {
   "cell_type": "code",
   "execution_count": 8,
   "id": "be07045b-b93e-4254-8191-45e259283614",
   "metadata": {},
   "outputs": [
    {
     "data": {
      "text/plain": [
       "[1, 1, 1, 1, 1]"
      ]
     },
     "execution_count": 8,
     "metadata": {},
     "output_type": "execute_result"
    }
   ],
   "source": [
    "#put 1 on the remained position (for division)\n",
    "for i in range(75,80):\n",
    "    totalPosCountlist[i] = 1\n",
    "totalPosCountlist[75:80]"
   ]
  },
  {
   "cell_type": "markdown",
   "id": "fc424eb1-be84-48d6-8326-485f8e7e3947",
   "metadata": {},
   "source": [
    "## extract MD tag from each read"
   ]
  },
  {
   "cell_type": "markdown",
   "id": "6a68373a-df24-484b-877b-0118e508786a",
   "metadata": {},
   "source": [
    "* 원래의 `CLIP-35L33G.bam`파일은 너무 크기 때문에, 가장 작은 chrM만 가지고 연습을 먼저 해보기로하였다."
   ]
  },
  {
   "cell_type": "code",
   "execution_count": 13,
   "id": "7fc69c3d-515f-4551-b725-0314797c032e",
   "metadata": {},
   "outputs": [
    {
     "name": "stdout",
     "output_type": "stream",
     "text": [
      "SRR458758.537185\t0\tchrM\t4\t39\t24M\t*\t0\t0\tAATGTGGCTTAATAACAAAGCAAA\tBGGGGHHHHHHHHHGBBGGGHDHH\tMD:Z:5A18\tNH:i:1\tHI:i:1\tNM:i:1\tSM:i:39\tXQ:i:40\tX2:i:0\tXO:Z:UU\tXS:A:+\tXY:Z:+ENSMUST00000082387.1:4..27\n",
      "SRR458758.2572947\t0\tchrM\t4\t39\t24M\t*\t0\t0\tAATGTGGCTTAATAACAAAGCAAA\tHDHGHHFFHHBBGGGFFDGDDHHH\tMD:Z:5A18\tNH:i:1\tHI:i:1\tNM:i:1\tSM:i:39\tXQ:i:40\tX2:i:0\tXO:Z:UU\tXS:A:+\tXY:Z:+ENSMUST00000082387.1:4..27\n",
      "SRR458758.7266053\t0\tchrM\t4\t38\t24M\t*\t0\t0\tAATGTGGCTTAATAACAAAGCAAA\t=D@DGCBDGDGDDDGGEGDADDED\tMD:Z:5A18\tNH:i:1\tHI:i:1\tNM:i:1\tSM:i:38\tXQ:i:40\tX2:i:0\tXO:Z:UU\tXS:A:+\tXY:Z:+ENSMUST00000082387.1:4..27\n",
      "samtools view: writing to standard output failed: Broken pipe\n",
      "samtools view: error closing standard output: -1\n"
     ]
    }
   ],
   "source": [
    "!samtools view -b -o CLIP-chrM.bam ../datapack/CLIP-35L33G.bam chrM\n",
    "!samtools view CLIP-chrM.bam | head -3"
   ]
  },
  {
   "cell_type": "code",
   "execution_count": 16,
   "id": "8832a9fa-9cfd-46e7-9b93-742eb0070f75",
   "metadata": {},
   "outputs": [
    {
     "name": "stdout",
     "output_type": "stream",
     "text": [
      "5A18\n",
      "5A18\n",
      "5A18\n",
      "sed: stdout: Broken pipe\n"
     ]
    }
   ],
   "source": [
    "!samtools view -h CLIP-chrM.bam | grep \"MD:Z:\" | sed 's/.*MD:Z:\\([ACGTI^0-9]*\\).*/\\1/' | head -3 "
   ]
  },
  {
   "cell_type": "markdown",
   "id": "a38c9ca9-720a-48e7-9d8e-f1e93012b54d",
   "metadata": {},
   "source": [
    "* 위 sed 프로그램에 사용한 정규식이 일단은 working하는 것 같으니까 이걸로 전체 파일에서 MDtag만 filter해본다"
   ]
  },
  {
   "cell_type": "markdown",
   "id": "81f4262f-c3c1-418f-b2ab-f61ad3b2d6e9",
   "metadata": {},
   "source": [
    "```{Python}\n",
    "!samtools view ../datapack/CLIP-35L33G.bam | grep \"MD:Z:\" | sed 's/.*MD:Z:\\([ACGTI^0-9]*\\).*/\\1/' > MDflag_full.txt\n",
    "```"
   ]
  },
  {
   "cell_type": "code",
   "execution_count": 17,
   "id": "7d209acf-46eb-4226-bad3-44caead10333",
   "metadata": {},
   "outputs": [
    {
     "name": "stdout",
     "output_type": "stream",
     "text": [
      " 36589778 MDflag_full.txt\n"
     ]
    }
   ],
   "source": [
    "!wc -l MDflag_full.txt"
   ]
  },
  {
   "cell_type": "code",
   "execution_count": 18,
   "id": "c73a29e1-ba4c-48e5-829b-b78b85c1a515",
   "metadata": {},
   "outputs": [
    {
     "name": "stdout",
     "output_type": "stream",
     "text": [
      "20\n",
      "20\n",
      "20\n",
      "47\n",
      "6^T3G17\n",
      "6^T3G17\n"
     ]
    }
   ],
   "source": [
    "!head -3 MDflag_full.txt\n",
    "!tail -3 MDflag_full.txt"
   ]
  },
  {
   "cell_type": "markdown",
   "id": "6741f48c-5126-4a4e-8d45-5dfd9377f8c0",
   "metadata": {},
   "source": [
    "## pileup errors for each read position (not reference)"
   ]
  },
  {
   "cell_type": "markdown",
   "id": "03922e35-ac78-4c44-9e00-cc660dddff0a",
   "metadata": {},
   "source": [
    "* 위와 동일하게 길이 80인 빈 리스트 `reslist`를 마련해 두고, mdflag에 표기되어있는 error를 순차적으로 추출하여 `reslist`에 저장한다. 각 read의 5'-end 의 첫번째 base 위치가 `reslist`의 0위치에 해당한다."
   ]
  },
  {
   "cell_type": "code",
   "execution_count": 9,
   "id": "14a2051e-b6da-431e-b317-c44c0befd783",
   "metadata": {},
   "outputs": [],
   "source": [
    "reslist =[]\n",
    "for i in range(80):\n",
    "    reslist.append([])"
   ]
  },
  {
   "cell_type": "markdown",
   "id": "fa552e86-34fa-45a7-95f5-c0b25302fe7b",
   "metadata": {},
   "source": [
    "* 혹시 모르니 한번 랜덤으로 생성한 MDflag 예제로 정규식을 이용하여 MDtag에서 position별 error를 추출하는 테스트를 해본다"
   ]
  },
  {
   "cell_type": "code",
   "execution_count": 10,
   "id": "bdef3d65-99af-41b6-988a-8d5a1c5b13b0",
   "metadata": {},
   "outputs": [
    {
     "data": {
      "text/plain": [
       "[(16, 'G'), (21, 'C'), (52, '^CC'), (52, 'A')]"
      ]
     },
     "execution_count": 10,
     "metadata": {},
     "output_type": "execute_result"
    }
   ],
   "source": [
    "import re\n",
    "\n",
    "# regex pattern to split MDflag by each error\n",
    "p = re.compile(\"[0-9]+[\\^]*[ACGT]+\")\n",
    "\n",
    "# test to get error information from one MDflag (one line in BAM)\n",
    "mdflag = \"15G4C30^CC0A18\" # MDflag example\n",
    "\n",
    "temp = []\n",
    "errorI = 0\n",
    "for err in p.findall(mdflag):\n",
    "    matchN = int(re.search(\"[0-9]+\",err).group())\n",
    "    errorI += matchN + 1\n",
    "    errorB = re.search(\"[\\^ACGT]+\", err).group()\n",
    "    temp.append((errorI, errorB))\n",
    "    if errorB.startswith(\"^\"):\n",
    "        errorI -= 1\n",
    "temp"
   ]
  },
  {
   "cell_type": "markdown",
   "id": "c5c7ba29-9057-4a4d-9c3b-623eaee38c4c",
   "metadata": {},
   "source": [
    "* 각 라인별로 MDflag를 추출하면 거기서 각각의 error 위치와 뉴크레오타이드를 튜플 리스트로 추출해줄 함수를 작성한다.\n",
    "* MDtag에서 ^[ACGT]+로 표기되는 deletion error의 경우에는 read에서 빠진 bases이므로 index를 하나씩 빼서 작동하도록 하였다.\n",
    "* insertion error의 경우는 일단 무시하였다 (`Think later`부분에서 이에 대한 고찰)"
   ]
  },
  {
   "cell_type": "code",
   "execution_count": 11,
   "id": "cc04ee4f-f74c-458f-af92-4d47e4688507",
   "metadata": {},
   "outputs": [],
   "source": [
    "def Err_eachMDflag(mdflag):\n",
    "    p = re.compile(\"[0-9]+[\\^]*[ACGT]+\")\n",
    "    \n",
    "    temp=[]\n",
    "    errorI = 0\n",
    "    for err in p.findall(mdflag):\n",
    "        matchN = int(re.search(\"[0-9]+\",err).group())\n",
    "        errorI += matchN + 1\n",
    "        errorB = re.search(\"[\\^ACGT]+\", err).group()\n",
    "        temp.append((errorI, errorB))\n",
    "        if errorB.startswith(\"^\"):\n",
    "            errorI -= 1\n",
    "    return temp"
   ]
  },
  {
   "cell_type": "markdown",
   "id": "9c6dd98d-c18b-49a7-8e85-6833df1e007b",
   "metadata": {},
   "source": [
    "* 작성한 함수를 활용하여 결과리스트를 도출하는 과정 테스트"
   ]
  },
  {
   "cell_type": "code",
   "execution_count": 12,
   "id": "92b76c43-d3a5-4ba8-be38-040f98bf9f53",
   "metadata": {},
   "outputs": [
    {
     "data": {
      "text/plain": [
       "[['A'],\n",
       " [],\n",
       " [],\n",
       " [],\n",
       " [],\n",
       " ['G'],\n",
       " [],\n",
       " [],\n",
       " ['^CC', 'A'],\n",
       " ['C'],\n",
       " ['A'],\n",
       " [],\n",
       " [],\n",
       " [],\n",
       " []]"
      ]
     },
     "execution_count": 12,
     "metadata": {},
     "output_type": "execute_result"
    }
   ],
   "source": [
    "test = [\"5G2^CC2A10\", \"20\", \"8A0C8\", \"0A16\"]\n",
    "\n",
    "testlist =[]\n",
    "for i in range(15):\n",
    "    testlist.append([])\n",
    "    \n",
    "    \n",
    "for eachMD in test:\n",
    "    errList = Err_eachMDflag(eachMD)\n",
    "    for i, b in errList:\n",
    "        testlist[i-1].append(b)\n",
    "\n",
    "testlist"
   ]
  },
  {
   "cell_type": "markdown",
   "id": "9e220b18-7b47-4047-b111-469535c5533d",
   "metadata": {},
   "source": [
    "* 전체 read의 MD flag에서 read포지션별 error를 추출하여 `reslist`에 넣어본다"
   ]
  },
  {
   "cell_type": "code",
   "execution_count": 19,
   "id": "493b87e1-51a0-4af0-8bc9-985cfee6c138",
   "metadata": {},
   "outputs": [],
   "source": [
    "import time\n",
    "start = time.time()\n",
    "\n",
    "f = open(\"MDflag_full.txt\", \"r\")\n",
    "for i in range(36589778):\n",
    "    eachMD = f.readline()\n",
    "    errList = Err_eachMDflag(eachMD)\n",
    "    for i, b in errList:\n",
    "        reslist[i-1].append(b)\n",
    "f.close()\n",
    "\n",
    "print(\"time: \", time.time() - start)"
   ]
  },
  {
   "cell_type": "code",
   "execution_count": 20,
   "id": "cdd821fa-a568-4609-8994-6c1a3ac13d02",
   "metadata": {
    "scrolled": true,
    "tags": []
   },
   "outputs": [
    {
     "data": {
      "text/plain": [
       "267533"
      ]
     },
     "execution_count": 20,
     "metadata": {},
     "output_type": "execute_result"
    }
   ],
   "source": [
    "len(reslist[0])"
   ]
  },
  {
   "cell_type": "markdown",
   "id": "c3894ea8-c31a-4252-b8ce-8654cd792995",
   "metadata": {},
   "source": [
    "## calculation of error frequency"
   ]
  },
  {
   "cell_type": "markdown",
   "id": "1803be0e-180f-4e89-8b6a-4c08e4f31d1e",
   "metadata": {},
   "source": [
    " * error type 상관없이 error frequency는 그냥 단순하게 각 index의 길이만 세면 된다.\n",
    " * 그런데 이 `reslist` 결과를 보면.. ^[ACGT]+로 표기되는 deletion error말고도 [ACGT]+ 패턴이 있는 것 같다.. (원래는 0A0C..이런식으로 연속 substitution도 0을 써주면서 연속표기되는 줄 알았는데..) 이 부분에 대한 내용은 나중에 `Think later`에서 더 알아보기로한다."
   ]
  },
  {
   "cell_type": "code",
   "execution_count": 25,
   "id": "9e2f8601-9375-42dd-9ad7-2d49b8a17331",
   "metadata": {
    "scrolled": true,
    "tags": []
   },
   "outputs": [
    {
     "data": {
      "text/plain": [
       "[267533,\n",
       " 132334,\n",
       " 277228,\n",
       " 342529,\n",
       " 352134,\n",
       " 342165,\n",
       " 338749,\n",
       " 320153,\n",
       " 476690,\n",
       " 456972,\n",
       " 486573,\n",
       " 443263,\n",
       " 463812,\n",
       " 632050,\n",
       " 784825,\n",
       " 807791,\n",
       " 949670,\n",
       " 903027,\n",
       " 1148854,\n",
       " 801559,\n",
       " 860417,\n",
       " 708028,\n",
       " 849315,\n",
       " 560239,\n",
       " 508444,\n",
       " 524817,\n",
       " 459289,\n",
       " 407409,\n",
       " 359747,\n",
       " 359751,\n",
       " 302683,\n",
       " 266961,\n",
       " 255351,\n",
       " 250757,\n",
       " 215874,\n",
       " 194178,\n",
       " 181786,\n",
       " 165709,\n",
       " 158179,\n",
       " 128189,\n",
       " 106933,\n",
       " 96162,\n",
       " 88312,\n",
       " 80199,\n",
       " 84463,\n",
       " 69052,\n",
       " 54792,\n",
       " 55722,\n",
       " 42474,\n",
       " 39438,\n",
       " 36496,\n",
       " 32702,\n",
       " 26760,\n",
       " 25887,\n",
       " 21151,\n",
       " 18152,\n",
       " 17554,\n",
       " 20925,\n",
       " 21910,\n",
       " 12045,\n",
       " 8963,\n",
       " 7211,\n",
       " 6624,\n",
       " 6123,\n",
       " 4954,\n",
       " 4514,\n",
       " 3551,\n",
       " 3138,\n",
       " 2206,\n",
       " 1905,\n",
       " 1224,\n",
       " 1378,\n",
       " 1231,\n",
       " 856,\n",
       " 154,\n",
       " 0,\n",
       " 0,\n",
       " 0,\n",
       " 0,\n",
       " 0]"
      ]
     },
     "execution_count": 25,
     "metadata": {},
     "output_type": "execute_result"
    }
   ],
   "source": [
    "SubDelErrCount = [len(errPos) for errPos in reslist]\n",
    "SubDelErrCount"
   ]
  },
  {
   "cell_type": "markdown",
   "id": "a1a22bf1-cbbd-423f-80bc-c2fbae93c34c",
   "metadata": {},
   "source": [
    "* read position 별로 축적한 error 정보인 `reslist`에서 Deletion error와 Substitution error를 구분해서 count하였다."
   ]
  },
  {
   "cell_type": "code",
   "execution_count": 26,
   "id": "a8a9ca41-598e-4467-81d3-e9770a218600",
   "metadata": {},
   "outputs": [],
   "source": [
    "DelErrCount = [sum(1 if eacherr.startswith(\"^\") else 0 for eacherr in errPos) \\\n",
    "               for errPos in reslist]\n",
    "SubErrCount = [sum(0 if eacherr.startswith(\"^\") else 1 for eacherr in errPos) \\\n",
    "               for errPos in reslist]"
   ]
  },
  {
   "cell_type": "markdown",
   "id": "433e1264-7eff-421f-9b58-a89832fc7b77",
   "metadata": {},
   "source": [
    "* 전체 중에 error count를 나누어서 error frequency를 계산하기 위해 각 read position별로 몇개의 read가 있는지 세보려고 한다.\n",
    "* bam파일에서 모든 read length를 count한 다음 이를 `reslist`처럼 1~80까지의 값을 가지는 리스트로 만들었다 `totalPosCountlist`."
   ]
  },
  {
   "cell_type": "code",
   "execution_count": 27,
   "id": "98a64eb2-07d8-4a45-a552-937c3fd325f7",
   "metadata": {},
   "outputs": [
    {
     "data": {
      "text/plain": [
       "array([0.20814052, 0.10295578, 0.21568322, 0.26648736, 0.27396005,\n",
       "       0.26620417, 0.26354653, 0.24907885, 0.37086454, 0.35552395,\n",
       "       0.37855351, 0.34485836, 0.36084547, 0.49173453, 0.6105934 ,\n",
       "       0.62846093, 0.73884271, 0.70255448, 0.89380775, 0.62361244,\n",
       "       0.71493609, 0.58855293, 0.69755609, 0.41328209, 0.3816279 ,\n",
       "       0.36700977, 0.33645894, 0.31431078, 0.27165602, 0.29071751,\n",
       "       0.26940214, 0.23427681, 0.21538102, 0.24009326, 0.20108407,\n",
       "       0.1821084 , 0.17251553, 0.13859741, 0.13024079, 0.07649143,\n",
       "       0.13355573, 0.12677265, 0.12560858, 0.11283429, 0.1053504 ,\n",
       "       0.07020833, 0.09006272, 0.09096088, 0.06250653, 0.0469357 ,\n",
       "       0.07743228, 0.07562153, 0.0669256 , 0.06534069, 0.0694783 ,\n",
       "       0.06149051, 0.06375691, 0.0872624 , 0.0868786 , 0.03958512,\n",
       "       0.03834586, 0.03190779, 0.03810948, 0.03897716, 0.03389088,\n",
       "       0.03362183, 0.0320418 , 0.03043352, 0.02448744, 0.0207505 ,\n",
       "       0.01430007, 0.01703695, 0.0147923 , 0.00706282, 0.00102571,\n",
       "       0.        , 0.        , 0.        , 0.        , 0.        ])"
      ]
     },
     "execution_count": 27,
     "metadata": {},
     "output_type": "execute_result"
    }
   ],
   "source": [
    "SubDelErrFreq = np.array(SubDelErrCount)/np.array(totalPosCountlist)\n",
    "SubDelErrFreq"
   ]
  },
  {
   "cell_type": "code",
   "execution_count": 28,
   "id": "a38e64a6-6b08-4cfe-8145-3660d677eaaf",
   "metadata": {},
   "outputs": [],
   "source": [
    "SubErrFreq =  np.array(SubErrCount)/np.array(totalPosCountlist)\n",
    "DelErrFreq =  np.array(DelErrCount)/np.array(totalPosCountlist)"
   ]
  },
  {
   "cell_type": "markdown",
   "id": "bd4c5114-4f9d-4b59-a1e7-436c182b170f",
   "metadata": {},
   "source": [
    "* 논문의 그래프에서는 read postion을 20bins로 나누어 x축이 표현됬다고 한다.\n",
    "* 일단 길이가 80이니까 4개씩 묶어서 error frequency를 sum해서 그려보자"
   ]
  },
  {
   "cell_type": "code",
   "execution_count": 33,
   "id": "5d13a2ca-d10a-4b00-bbda-ee5b96f793b5",
   "metadata": {},
   "outputs": [],
   "source": [
    "SubErrFreq_20bins = [sum(SubErrFreq[num:num+4]) for num in range(0,80,4)]\n",
    "DelErrFreq_20bins = [sum(DelErrFreq[num:num+4]) for num in range(0,80,4)]"
   ]
  },
  {
   "cell_type": "code",
   "execution_count": null,
   "id": "15f4379b-caf5-4d2a-a809-a596211f6696",
   "metadata": {},
   "outputs": [],
   "source": []
  },
  {
   "cell_type": "code",
   "execution_count": null,
   "id": "9fc3ac83-a646-4953-9433-43dd19f88c08",
   "metadata": {},
   "outputs": [],
   "source": []
  },
  {
   "cell_type": "code",
   "execution_count": null,
   "id": "a3f069ab-d48c-4501-a811-1240caf1b3dc",
   "metadata": {},
   "outputs": [],
   "source": [
    "list(range(0,81,4))"
   ]
  },
  {
   "cell_type": "code",
   "execution_count": 30,
   "id": "460ae116-cc98-4619-b452-b70dea1aaaa0",
   "metadata": {},
   "outputs": [
    {
     "data": {
      "text/plain": [
       "0.7929844680195558"
      ]
     },
     "execution_count": 30,
     "metadata": {},
     "output_type": "execute_result"
    }
   ],
   "source": [
    "sum(SubErrFreq[0:4])"
   ]
  },
  {
   "cell_type": "markdown",
   "id": "441c27fe-0de4-4107-990e-6b5633e73fe1",
   "metadata": {},
   "source": [
    "* error type별로 base-specific frequency도 뽑아보자"
   ]
  },
  {
   "cell_type": "code",
   "execution_count": null,
   "id": "c3ce6f7e-e38e-4390-8afe-542a39acc9ae",
   "metadata": {},
   "outputs": [],
   "source": []
  },
  {
   "cell_type": "markdown",
   "id": "46b2e398-ce85-472a-8c4e-65c80e07f575",
   "metadata": {},
   "source": [
    "# 그래프 그리기"
   ]
  },
  {
   "cell_type": "code",
   "execution_count": 35,
   "id": "efc9c8fc-8867-4620-88f2-1e1646cfebf5",
   "metadata": {},
   "outputs": [
    {
     "data": {
      "image/png": "[encoded data removed]",
      "text/plain": [
       "<Figure size 432x288 with 1 Axes>"
      ]
     },
     "metadata": {
      "needs_background": "light"
     },
     "output_type": "display_data"
    }
   ],
   "source": [
    "from matplotlib import pyplot as plt\n",
    "\n",
    "x = list(range(80))\t\n",
    "y = SubDelErrFreq\t\n",
    "plt.plot(x, y)\t\n",
    "plt.show()\t"
   ]
  },
  {
   "cell_type": "code",
   "execution_count": 37,
   "id": "6cb364f7-070f-4f0c-8ab5-14d2a3925203",
   "metadata": {},
   "outputs": [
    {
     "data": {
      "image/png": "[encoded data removed]",
      "text/plain": [
       "<Figure size 432x288 with 1 Axes>"
      ]
     },
     "metadata": {
      "needs_background": "light"
     },
     "output_type": "display_data"
    }
   ],
   "source": [
    "x = list(range(20))\t\n",
    "y1 = SubErrFreq_20bins\n",
    "y2 = DelErrFreq_20bins\n",
    "plt.plot(x, y1)\t\n",
    "plt.plot(x, y2)\t\n",
    "plt.show()\t"
   ]
  },
  {
   "cell_type": "code",
   "execution_count": 38,
   "id": "3e6815f1-2ef6-4158-a354-52fa7d3aa828",
   "metadata": {},
   "outputs": [
    {
     "data": {
      "image/png": "[encoded data removed]",
      "text/plain": [
       "<Figure size 432x288 with 1 Axes>"
      ]
     },
     "metadata": {
      "needs_background": "light"
     },
     "output_type": "display_data"
    }
   ],
   "source": [
    "x = list(range(10))\t\n",
    "y1 = SubErrFreq_20bins[:10]\n",
    "y2 = DelErrFreq_20bins[:10]\n",
    "plt.plot(x, y1)\t\n",
    "plt.plot(x, y2)\t\n",
    "plt.show()\t"
   ]
  },
  {
   "cell_type": "code",
   "execution_count": null,
   "id": "bc357071-09de-4c31-82b2-142bac664a50",
   "metadata": {},
   "outputs": [],
   "source": []
  },
  {
   "cell_type": "code",
   "execution_count": null,
   "id": "7abc91b6-e7bc-41ac-8e53-d1d4c0611d48",
   "metadata": {},
   "outputs": [],
   "source": []
  },
  {
   "cell_type": "code",
   "execution_count": null,
   "id": "d1d48276-2e3d-4573-8f57-a12c6ae4fd5e",
   "metadata": {},
   "outputs": [],
   "source": []
  },
  {
   "cell_type": "code",
   "execution_count": null,
   "id": "91ea1d3b-189d-4f25-b15a-4622cb2cd1f1",
   "metadata": {},
   "outputs": [],
   "source": []
  },
  {
   "cell_type": "code",
   "execution_count": null,
   "id": "0b5e30af-248f-421a-8e63-3269634cadbc",
   "metadata": {},
   "outputs": [],
   "source": []
  },
  {
   "cell_type": "code",
   "execution_count": null,
   "id": "33b559af-8e8d-427c-9ba4-72e1648eba68",
   "metadata": {},
   "outputs": [],
   "source": []
  },
  {
   "cell_type": "code",
   "execution_count": null,
   "id": "3ae6327c-8dbb-470f-9879-9e8c415db403",
   "metadata": {},
   "outputs": [],
   "source": []
  },
  {
   "cell_type": "markdown",
   "id": "62fca678-1c26-448e-bf3e-aff0414dbe0b",
   "metadata": {},
   "source": [
    "## Think later"
   ]
  },
  {
   "cell_type": "markdown",
   "id": "846c0e25-9da4-49a2-8141-d1b3e404bc67",
   "metadata": {},
   "source": [
    "* MDtag에서 안잡히는 Insertion error를 무시해도 되는지 (무시해도 될만큼 빈도가 적을 지)알아보자"
   ]
  },
  {
   "cell_type": "code",
   "execution_count": 126,
   "id": "404397ef-351a-420f-9302-f090c895e2e1",
   "metadata": {},
   "outputs": [
    {
     "name": "stdout",
     "output_type": "stream",
     "text": [
      "   80873\n"
     ]
    }
   ],
   "source": [
    "!samtools view ../datapack/CLIP-35L33G.bam | cut -f 6 | grep \"I\" | wc -l"
   ]
  },
  {
   "cell_type": "code",
   "execution_count": 127,
   "id": "665d6d1c-e0ae-4fdd-aa05-8f283afea82f",
   "metadata": {},
   "outputs": [
    {
     "name": "stdout",
     "output_type": "stream",
     "text": [
      "0.002080021238217176\n"
     ]
    }
   ],
   "source": [
    "print(80873/38880853)"
   ]
  },
  {
   "cell_type": "markdown",
   "id": "e2cab821-17e2-42f9-bc74-a8d1ace8b097",
   "metadata": {},
   "source": [
    "* 연속적으로 있는 I error는?"
   ]
  },
  {
   "cell_type": "code",
   "execution_count": null,
   "id": "90ebeaa2-17bc-4770-a0f0-f6cf38d69979",
   "metadata": {},
   "outputs": [],
   "source": []
  },
  {
   "cell_type": "code",
   "execution_count": null,
   "id": "fcc5528b-e26b-4148-b7cf-6fdd54d8f874",
   "metadata": {},
   "outputs": [],
   "source": []
  },
  {
   "cell_type": "code",
   "execution_count": null,
   "id": "ff930a1d-a3fe-45a5-a689-25b6fce6f933",
   "metadata": {},
   "outputs": [],
   "source": []
  },
  {
   "cell_type": "markdown",
   "id": "fc071bcf-1240-4284-b415-9e1df49796c7",
   "metadata": {},
   "source": [
    "* 작업을 진행하다가 이상하거다 더 확인이 필요한 부분은 여기 남겨놓았다가 나중에 생각하기"
   ]
  },
  {
   "cell_type": "code",
   "execution_count": 83,
   "id": "20e2e8d6-5c54-4813-9729-f32a7a6ab6d9",
   "metadata": {},
   "outputs": [
    {
     "name": "stdout",
     "output_type": "stream",
     "text": [
      "SRR458758.626397\t256\tchr1\t4911719\t0\t40M\t*\t0\t0\tACTCTCTTCCAAAGGTCCTGAGTTCAAATCCCAGCAACCA\t?141>:76:=:95/-,:6?@85/?46?66?6=*-//:1/+\tMD:Z:0CTG37\tNH:i:67\tHI:i:16\tNM:i:3\tSM:i:0\tXQ:i:22\tX2:i:40\tXO:Z:UM\tXS:A:+\tXY:Z:+ENSMUST00000141278.2:3125..3164\n",
      "SRR458758.1222986\t256\tchr1\t4911719\t0\t40M\t*\t0\t0\tACTCTCTTCCAAAGGTCCTGAGTTCAAATCCCAGCAACCA\tIIIIIIHIIIIIIGIIIIIIIIIIIIIIIIIIIHEIHIHI\tMD:Z:0CTG37\tNH:i:67\tHI:i:16\tNM:i:3\tSM:i:0\tXQ:i:9\tX2:i:40\tXO:Z:UM\tXS:A:+\tXY:Z:+ENSMUST00000141278.2:3125..3164\n",
      "SRR458758.2730793\t256\tchr1\t4911719\t0\t40M\t*\t0\t0\tACTCTCTTCCAAAGGTCCTGAGTTCAAATCCCAGCAACCA\tIIIIIIIIIIIIIIIIIIIIHIIIIIIIIIIIIIIIIIII\tMD:Z:0CTG37\tNH:i:67\tHI:i:16\tNM:i:3\tSM:i:0\tXQ:i:9\tX2:i:40\tXO:Z:UM\tXS:A:+\tXY:Z:+ENSMUST00000141278.2:3125..3164\n"
     ]
    }
   ],
   "source": [
    "!samtools view ../datapack/CLIP-35L33G.bam | grep \"MD:Z:0CTG\" | head -3"
   ]
  },
  {
   "cell_type": "code",
   "execution_count": 89,
   "id": "0fe6bd47-7379-4779-94af-09b178b905de",
   "metadata": {},
   "outputs": [
    {
     "name": "stdout",
     "output_type": "stream",
     "text": [
      "SRR458758.4889132\t0\tchr1\t5163692\t39\t25M2121N3M2D40M\t*\t0\t0\tAACCATGGTTGACGATATGCTGCAAAAATCACCAGCGTGTCAGCATTTTCTTTGACTATGCGAAACGA\tEDDBBBFFEEGGGGGGDGDGHHEHHGGDDDGDBGDECEFCBFCF>DEEGEDDDDGBEEECDDGGGDDG\tMD:Z:24G0G2^AG40\tNH:i:1\tHI:i:1\tNM:i:4\tSM:i:39\tXQ:i:40\tX2:i:0\tXO:Z:UU\tXS:A:+\n",
      "SRR458758.6896959\t0\tchr1\t5163692\t39\t25M2121N3M2D40M\t*\t0\t0\tAACCATGGTTGACGATATGCTGCAAAAATCACCAGCGTGTCAGCATTTTCTTTGACTATGCGAAACGA\tE=?7D=EGG=HEFHBBB@HEHDHAEH@DEHHH>>HHBGHHG:GGGHHGHHDHGHHEBH@HDGFHHGHH\tMD:Z:24G0G2^AG40\tNH:i:1\tHI:i:1\tNM:i:4\tSM:i:39\tXQ:i:40\tX2:i:0\tXO:Z:UU\tXS:A:+\n",
      "SRR458758.7669194\t0\tchr1\t5163692\t39\t25M2121N3M2D40M\t*\t0\t0\tAACCATGGTTGACGATATGCTGCAAAAATCACCAGCGTGTCAGCATTTTCTTTGACTATGCGAAACGA\tG>>DGGGGGGH@H<GEDGGDGGGFGHH@HDGE@@B<E8BEGGGGEGGGG>DGDDGGDG@DGDGGGCEF\tMD:Z:24G0G2^AG40\tNH:i:1\tHI:i:1\tNM:i:4\tSM:i:39\tXQ:i:40\tX2:i:0\tXO:Z:UU\tXS:A:+\n"
     ]
    }
   ],
   "source": [
    "!samtools view ../datapack/CLIP-35L33G.bam | grep \"MD:Z:.*[0-9][ACGT][0][ACGT]\" | head -3"
   ]
  },
  {
   "cell_type": "markdown",
   "id": "bb588033-acb1-477e-b4b2-a11e33563bb5",
   "metadata": {},
   "source": [
    "* 모르겠다... 왜 MD:Z:0CTG...같은게 존재하는지.. (왜 MD:Z:0C0T0G가 아닌지....)"
   ]
  },
  {
   "cell_type": "code",
   "execution_count": null,
   "id": "0b8970ea-cbf6-4153-9a04-626682ec94c4",
   "metadata": {},
   "outputs": [],
   "source": []
  },
  {
   "cell_type": "code",
   "execution_count": null,
   "id": "95862f26-3285-4e03-be24-179351766527",
   "metadata": {},
   "outputs": [],
   "source": [
    "import time\n",
    "start = time.time()\n",
    "#working code\n",
    "print(\"time: \", time.time() - start)"
   ]
  }
 ],
 "metadata": {
  "kernelspec": {
   "display_name": "bilab",
   "language": "python",
   "name": "bilab"
  },
  "language_info": {
   "codemirror_mode": {
    "name": "ipython",
    "version": 3
   },
   "file_extension": ".py",
   "mimetype": "text/x-python",
   "name": "python",
   "nbconvert_exporter": "python",
   "pygments_lexer": "ipython3",
   "version": "3.9.2"
  }
 },
 "nbformat": 4,
 "nbformat_minor": 5
}
