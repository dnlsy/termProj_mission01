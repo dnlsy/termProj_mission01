{
 "cells": [
  {
   "cell_type": "code",
   "execution_count": 1,
   "id": "a6db7914-2ff1-44e8-a939-413eb10a176d",
   "metadata": {},
   "outputs": [
    {
     "name": "stdout",
     "output_type": "stream",
     "text": [
      "SRR458758.23028115\t0\tchr1\t3056473\t0\t20M\t*\t0\t0\tGAATGGAAGTTCAAGGATCT\tHHGHHGE@GGHHED?GEGDG\tMD:Z:20\tNH:i:40\tHI:i:1\tNM:i:0\tSM:i:0\tXQ:i:40\tX2:i:40\tXO:Z:UM\tXS:A:-\n",
      "SRR458758.23879202\t0\tchr1\t3056473\t0\t20M\t*\t0\t0\tGAATGGAAGTTCAAGGATCT\tGBGGEEAAF=CEEDEGBGG>\tMD:Z:20\tNH:i:40\tHI:i:1\tNM:i:0\tSM:i:0\tXQ:i:40\tX2:i:40\tXO:Z:UM\tXS:A:-\n",
      "SRR458758.23893532\t0\tchr1\t3056473\t0\t20M\t*\t0\t0\tGAATGGAAGTTCAAGGATCT\tG@?GGE=EFBDDGGGGD@GG\tMD:Z:20\tNH:i:40\tHI:i:1\tNM:i:0\tSM:i:0\tXQ:i:40\tX2:i:40\tXO:Z:UM\tXS:A:-\n",
      "SRR458758.26501547\t0\tchr1\t3056473\t0\t20M\t*\t0\t0\tGAATGGAAGTTCAAGGATCT\tIIIHIIIHIGHIIIHEHIHH\tMD:Z:20\tNH:i:40\tHI:i:1\tNM:i:0\tSM:i:0\tXQ:i:40\tX2:i:40\tXO:Z:UM\tXS:A:-\n",
      "SRR458758.685997\t16\tchr1\t3059006\t0\t22M\t*\t0\t0\tTTCATTTACAGAATGGAATACT\tEG7:776DGGGBD<GGEBGEG@\tMD:Z:22\tNH:i:30\tHI:i:1\tNM:i:0\tSM:i:0\tXQ:i:40\tX2:i:40\tXO:Z:UM\tXS:A:+\n",
      "SRR458758.12045118\t16\tchr1\t3059006\t0\t22M\t*\t0\t0\tTTCATTTACAGAATGGAATACT\tIFGIDDIHIHEIIIIIIIIHBI\tMD:Z:22\tNH:i:30\tHI:i:1\tNM:i:0\tSM:i:0\tXQ:i:40\tX2:i:40\tXO:Z:UM\tXS:A:+\n",
      "samtools view: writing to standard output failed: Broken pipe\n",
      "samtools view: error closing standard output: -1\n"
     ]
    }
   ],
   "source": [
    "!samtools view ../datapack/CLIP-35L33G.bam | head -6"
   ]
  },
  {
   "cell_type": "code",
   "execution_count": 3,
   "id": "c1df71eb-71f9-4c57-b56c-7255bd2f9e23",
   "metadata": {},
   "outputs": [
    {
     "name": "stdout",
     "output_type": "stream",
     "text": [
      "1285348 20\n",
      "1203488 21\n",
      "1202998 22\n",
      "1217558 23\n",
      "1355585 24\n",
      "1332303 25\n",
      "1429981 26\n",
      "1365067 27\n",
      "1296198 28\n",
      "1324274 29\n",
      "1237459 30\n",
      "1123536 31\n",
      "1139511 32\n",
      "1185578 33\n",
      "1044415 34\n",
      "1073551 35\n",
      "1066277 36\n",
      "1053737 37\n",
      "1195614 38\n",
      "1214512 39\n",
      "1675861 40\n",
      "800662 41\n",
      "758539 42\n",
      "703073 43\n",
      "710768 44\n",
      "801734 45\n",
      "983530 46\n",
      "608376 47\n",
      "612593 48\n",
      "679513 49\n",
      "840256 50\n",
      "471328 51\n",
      "432443 52\n",
      "399847 53\n",
      "396185 54\n",
      "304426 55\n",
      "295200 56\n",
      "275327 57\n",
      "239794 58\n",
      "252191 59\n",
      "304281 60\n",
      "233741 61\n",
      "225995 62\n",
      "173815 63\n",
      "157092 64\n",
      "146175 65\n",
      "134258 66\n",
      "110824 67\n",
      "103110 68\n",
      "90087 69\n",
      "91805 70\n",
      "85594 71\n",
      "80883 72\n",
      "83219 73\n",
      "121198 74\n",
      "150140 75\n"
     ]
    }
   ],
   "source": [
    "!samtools view ../datapack/CLIP-35L33G.bam | \\\n",
    " awk '{print length($10)}' | sort | uniq -c"
   ]
  },
  {
   "cell_type": "markdown",
   "id": "03922e35-ac78-4c44-9e00-cc660dddff0a",
   "metadata": {},
   "source": [
    "* 일단 `MD:Z:`부분이 mismatch를 표시하고 있기 때문에, 이 부분의 정보를 가지고 read 위치별 error frequency를 구하는 코드를 작성해 본다.\n",
    "* 전체 CLIPseq reads 의 길이는 20~75 정도이므로, 길이 80인 빈 리스트 `reslist`를 마련해 두고, mdflag에 표기되어있는 error를 순차적으로 추출하여 `reslist`에 저장한다. 각 read의 5'-end 의 첫번째 base 위치가 `reslist`의 0위치에 해당한다."
   ]
  },
  {
   "cell_type": "code",
   "execution_count": 9,
   "id": "14a2051e-b6da-431e-b317-c44c0befd783",
   "metadata": {},
   "outputs": [],
   "source": [
    "reslist =[]\n",
    "for i in range(80):\n",
    "    reslist.append([])"
   ]
  },
  {
   "cell_type": "code",
   "execution_count": 2,
   "id": "dcf25ac2-220e-4171-947c-6abb3697ba2f",
   "metadata": {},
   "outputs": [
    {
     "name": "stdout",
     "output_type": "stream",
     "text": [
      " 38880853\n"
     ]
    }
   ],
   "source": [
    "!samtools view ../datapack/CLIP-35L33G.bam | wc -l"
   ]
  },
  {
   "cell_type": "markdown",
   "id": "fa552e86-34fa-45a7-95f5-c0b25302fe7b",
   "metadata": {},
   "source": [
    "* 혹시 모르니 한번 랜덤으로 생성한 MDflag 예제로 테스트를 해본다"
   ]
  },
  {
   "cell_type": "code",
   "execution_count": 10,
   "id": "bdef3d65-99af-41b6-988a-8d5a1c5b13b0",
   "metadata": {},
   "outputs": [
    {
     "data": {
      "text/plain": [
       "[(16, 'G'), (21, 'C'), (52, '^CC'), (53, 'A')]"
      ]
     },
     "execution_count": 10,
     "metadata": {},
     "output_type": "execute_result"
    }
   ],
   "source": [
    "import re\n",
    "\n",
    "# regex pattern to split MDflag by each error\n",
    "p = re.compile(\"[0-9]+[\\^]*[ACGT]+\")\n",
    "\n",
    "# test to get error information from one MDflag (one line in BAM)\n",
    "mdflag = \"15G4C30^CC0A18\" # MDflag example\n",
    "\n",
    "temp = []\n",
    "errorI = 0\n",
    "for err in p.findall(mdflag):\n",
    "    matchN = int(re.search(\"[0-9]+\",err).group())\n",
    "    errorI += matchN + 1\n",
    "    errorB = re.search(\"[\\^ACGT]+\", err).group()\n",
    "    temp.append((errorI, errorB))\n",
    "temp"
   ]
  },
  {
   "cell_type": "markdown",
   "id": "c5c7ba29-9057-4a4d-9c3b-623eaee38c4c",
   "metadata": {},
   "source": [
    "* 각 라인별로 MDflag를 추출하면 거기서 각각의 error 위치와 뉴크레오타이드를 튜플 리스트로 추출해줄 함수를 작성한다."
   ]
  },
  {
   "cell_type": "code",
   "execution_count": 33,
   "id": "cc04ee4f-f74c-458f-af92-4d47e4688507",
   "metadata": {},
   "outputs": [],
   "source": [
    "def Err_eachMDflag(mdflag):\n",
    "    p = re.compile(\"[0-9]+[\\^]*[ACGT]+\")\n",
    "    \n",
    "    temp=[]\n",
    "    errorI = 0\n",
    "    for err in p.findall(mdflag):\n",
    "        matchN = int(re.search(\"[0-9]+\",err).group())\n",
    "        errorI += matchN + 1\n",
    "        errorB = re.search(\"[\\^ACGT]+\", err).group()\n",
    "        temp.append((errorI, errorB))\n",
    "    return temp"
   ]
  },
  {
   "cell_type": "markdown",
   "id": "9c6dd98d-c18b-49a7-8e85-6833df1e007b",
   "metadata": {},
   "source": [
    "* 작성한 함수를 활용하여 결과리스트를 도출하는 과정 테스트"
   ]
  },
  {
   "cell_type": "code",
   "execution_count": 19,
   "id": "92b76c43-d3a5-4ba8-be38-040f98bf9f53",
   "metadata": {},
   "outputs": [
    {
     "data": {
      "text/plain": [
       "[['A'],\n",
       " [],\n",
       " [],\n",
       " [],\n",
       " [],\n",
       " ['G'],\n",
       " [],\n",
       " [],\n",
       " ['^CC', 'A'],\n",
       " ['C'],\n",
       " [],\n",
       " [],\n",
       " [],\n",
       " [],\n",
       " [],\n",
       " [],\n",
       " [],\n",
       " [],\n",
       " [],\n",
       " []]"
      ]
     },
     "execution_count": 19,
     "metadata": {},
     "output_type": "execute_result"
    }
   ],
   "source": [
    "test = [\"5G2^CC10\", \"20\", \"8A0C8\", \"0A16\"]\n",
    "\n",
    "testlist =[]\n",
    "for i in range(20):\n",
    "    testlist.append([])\n",
    "    \n",
    "    \n",
    "for eachMD in test:\n",
    "    errList = Err_eachMDflag(eachMD)\n",
    "    for i, b in errList:\n",
    "        testlist[i-1].append(b)\n",
    "\n",
    "testlist"
   ]
  },
  {
   "cell_type": "markdown",
   "id": "9118e21f-03ed-4aed-b6c9-3ab2476eb26c",
   "metadata": {},
   "source": [
    "* 원래의 `CLIP-35L33G.bam`파일은 너무 크기 때문에, 가장 작은 chrM만 가지고 연습을 해보기로하였다."
   ]
  },
  {
   "cell_type": "code",
   "execution_count": 6,
   "id": "11881429-cd0b-4980-ad00-0db508dc4858",
   "metadata": {},
   "outputs": [
    {
     "name": "stdout",
     "output_type": "stream",
     "text": [
      "SRR458758.537185\t0\tchrM\t4\t39\t24M\t*\t0\t0\tAATGTGGCTTAATAACAAAGCAAA\tBGGGGHHHHHHHHHGBBGGGHDHH\tMD:Z:5A18\tNH:i:1\tHI:i:1\tNM:i:1\tSM:i:39\tXQ:i:40\tX2:i:0\tXO:Z:UU\tXS:A:+\tXY:Z:+ENSMUST00000082387.1:4..27\n",
      "SRR458758.2572947\t0\tchrM\t4\t39\t24M\t*\t0\t0\tAATGTGGCTTAATAACAAAGCAAA\tHDHGHHFFHHBBGGGFFDGDDHHH\tMD:Z:5A18\tNH:i:1\tHI:i:1\tNM:i:1\tSM:i:39\tXQ:i:40\tX2:i:0\tXO:Z:UU\tXS:A:+\tXY:Z:+ENSMUST00000082387.1:4..27\n",
      "SRR458758.7266053\t0\tchrM\t4\t38\t24M\t*\t0\t0\tAATGTGGCTTAATAACAAAGCAAA\t=D@DGCBDGDGDDDGGEGDADDED\tMD:Z:5A18\tNH:i:1\tHI:i:1\tNM:i:1\tSM:i:38\tXQ:i:40\tX2:i:0\tXO:Z:UU\tXS:A:+\tXY:Z:+ENSMUST00000082387.1:4..27\n",
      "samtools view: writing to standard output failed: Broken pipe\n",
      "samtools view: error closing standard output: -1\n"
     ]
    }
   ],
   "source": [
    "!samtools view -b -o CLIP-chrM.bam ../datapack/CLIP-35L33G.bam chrM\n",
    "!samtools view CLIP-chrM.bam | head -3"
   ]
  },
  {
   "cell_type": "code",
   "execution_count": 22,
   "id": "745dc07b-c3ce-43f5-836c-0cfa886d7ad6",
   "metadata": {},
   "outputs": [
    {
     "name": "stdout",
     "output_type": "stream",
     "text": [
      "5A18\n",
      "5A18\n",
      "5A18\n",
      "5A32\n",
      "5A18\n",
      "5A18\n",
      "5A32\n",
      "5A32\n",
      "5A32\n",
      "5A32\n",
      "sed: stdout: Broken pipe\n"
     ]
    }
   ],
   "source": [
    "!samtools view -h CLIP-chrM.bam | grep \"MD:Z:\" | sed 's/.*MD:Z:\\([ACGTI^0-9]*\\).*/\\1/' | head"
   ]
  },
  {
   "cell_type": "code",
   "execution_count": 23,
   "id": "9d654d2a-7670-4792-b42a-c91663f4a76b",
   "metadata": {},
   "outputs": [],
   "source": [
    "!samtools view ../datapack/CLIP-35L33G.bam | grep \"MD:Z:\" | sed 's/.*MD:Z:\\([ACGTI^0-9]*\\).*/\\1/' > MDflag_full.txt"
   ]
  },
  {
   "cell_type": "code",
   "execution_count": 24,
   "id": "522563c3-d9ee-42ac-b162-a11218bafb7b",
   "metadata": {},
   "outputs": [
    {
     "name": "stdout",
     "output_type": "stream",
     "text": [
      " 36589778 MDflag_full.txt\n"
     ]
    }
   ],
   "source": [
    "!wc -l MDflag_full.txt"
   ]
  },
  {
   "cell_type": "code",
   "execution_count": 27,
   "id": "d7f9c135-1d64-4bcb-a722-dfda3c842837",
   "metadata": {},
   "outputs": [
    {
     "name": "stdout",
     "output_type": "stream",
     "text": [
      "20\n",
      "20\n",
      "20\n",
      "47\n",
      "6^T3G17\n",
      "6^T3G17\n"
     ]
    }
   ],
   "source": [
    "!head -3 MDflag_full.txt\n",
    "!tail -3 MDflag_full.txt"
   ]
  },
  {
   "cell_type": "code",
   "execution_count": 30,
   "id": "8e8fd96a-e590-42e9-bfcf-359439eb439e",
   "metadata": {},
   "outputs": [
    {
     "name": "stdout",
     "output_type": "stream",
     "text": [
      "(80, 0)\n"
     ]
    }
   ],
   "source": [
    "import numpy as np\n",
    "print(np.shape(reslist))"
   ]
  },
  {
   "cell_type": "code",
   "execution_count": 35,
   "id": "493b87e1-51a0-4af0-8bc9-985cfee6c138",
   "metadata": {},
   "outputs": [],
   "source": [
    "f = open(\"MDflag_full.txt\", \"r\")\n",
    "for i in range(36589778):\n",
    "    eachMD = f.readline()\n",
    "    errList = Err_eachMDflag(eachMD)\n",
    "    for i, b in errList:\n",
    "        reslist[i-1].append(b)\n",
    "f.close()"
   ]
  },
  {
   "cell_type": "code",
   "execution_count": 40,
   "id": "9e2f8601-9375-42dd-9ad7-2d49b8a17331",
   "metadata": {},
   "outputs": [
    {
     "data": {
      "text/plain": [
       "[267533,\n",
       " 132307,\n",
       " 277236,\n",
       " 342547,\n",
       " 352121,\n",
       " 342178,\n",
       " 338724,\n",
       " 320146,\n",
       " 467734,\n",
       " 456980,\n",
       " 487131,\n",
       " 442282,\n",
       " 460695,\n",
       " 630721,\n",
       " 783811,\n",
       " 808945,\n",
       " 950145,\n",
       " 885529,\n",
       " 1163710,\n",
       " 800861,\n",
       " 858079,\n",
       " 695999,\n",
       " 866763,\n",
       " 560079,\n",
       " 506098,\n",
       " 527065,\n",
       " 457093,\n",
       " 411023,\n",
       " 358435,\n",
       " 361117,\n",
       " 303623,\n",
       " 266076,\n",
       " 255617,\n",
       " 251247,\n",
       " 218496,\n",
       " 193753,\n",
       " 182910,\n",
       " 166235,\n",
       " 158748,\n",
       " 128670,\n",
       " 107609,\n",
       " 96756,\n",
       " 88026,\n",
       " 78927,\n",
       " 84566,\n",
       " 71661,\n",
       " 54673,\n",
       " 55040,\n",
       " 43558,\n",
       " 40227,\n",
       " 36649,\n",
       " 32781,\n",
       " 27373,\n",
       " 26147,\n",
       " 21358,\n",
       " 18262,\n",
       " 17482,\n",
       " 21019,\n",
       " 21155,\n",
       " 13369,\n",
       " 9305,\n",
       " 7099,\n",
       " 6874,\n",
       " 6024,\n",
       " 4954,\n",
       " 4689,\n",
       " 3722,\n",
       " 2764,\n",
       " 2609,\n",
       " 1922,\n",
       " 1297,\n",
       " 1431,\n",
       " 1323,\n",
       " 604,\n",
       " 471,\n",
       " 7,\n",
       " 0,\n",
       " 0,\n",
       " 0,\n",
       " 0]"
      ]
     },
     "execution_count": 40,
     "metadata": {},
     "output_type": "execute_result"
    }
   ],
   "source": [
    "[len(errPos) for errPos in reslist]"
   ]
  },
  {
   "cell_type": "code",
   "execution_count": null,
   "id": "28396f4b-3343-464d-9a69-1f7daa07447d",
   "metadata": {},
   "outputs": [],
   "source": []
  },
  {
   "cell_type": "code",
   "execution_count": null,
   "id": "f4a5f5cc-6e19-409d-8ee2-bc488c0e0aa9",
   "metadata": {},
   "outputs": [],
   "source": []
  },
  {
   "cell_type": "code",
   "execution_count": null,
   "id": "98a64eb2-07d8-4a45-a552-937c3fd325f7",
   "metadata": {},
   "outputs": [],
   "source": []
  },
  {
   "cell_type": "code",
   "execution_count": null,
   "id": "efc9c8fc-8867-4620-88f2-1e1646cfebf5",
   "metadata": {},
   "outputs": [],
   "source": []
  },
  {
   "cell_type": "code",
   "execution_count": null,
   "id": "20e2e8d6-5c54-4813-9729-f32a7a6ab6d9",
   "metadata": {},
   "outputs": [],
   "source": []
  },
  {
   "cell_type": "code",
   "execution_count": null,
   "id": "0fe6bd47-7379-4779-94af-09b178b905de",
   "metadata": {},
   "outputs": [],
   "source": []
  },
  {
   "cell_type": "code",
   "execution_count": null,
   "id": "c47441aa-9422-4cd9-ab86-971bccab055d",
   "metadata": {},
   "outputs": [],
   "source": []
  },
  {
   "cell_type": "code",
   "execution_count": null,
   "id": "0b8970ea-cbf6-4153-9a04-626682ec94c4",
   "metadata": {},
   "outputs": [],
   "source": []
  },
  {
   "cell_type": "code",
   "execution_count": null,
   "id": "95862f26-3285-4e03-be24-179351766527",
   "metadata": {},
   "outputs": [],
   "source": [
    "import time\n",
    "start = time.time()\n",
    "#working code\n",
    "print(\"time: \", time.time() - start)"
   ]
  }
 ],
 "metadata": {
  "kernelspec": {
   "display_name": "bilab",
   "language": "python",
   "name": "bilab"
  },
  "language_info": {
   "codemirror_mode": {
    "name": "ipython",
    "version": 3
   },
   "file_extension": ".py",
   "mimetype": "text/x-python",
   "name": "python",
   "nbconvert_exporter": "python",
   "pygments_lexer": "ipython3",
   "version": "3.9.2"
  }
 },
 "nbformat": 4,
 "nbformat_minor": 5
}
