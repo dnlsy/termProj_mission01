{
 "cells": [
  {
   "cell_type": "markdown",
   "id": "46f54f3b-4bda-4b45-8a51-eb4ade790985",
   "metadata": {},
   "source": [
    "* gene1: Mirlet7g "
   ]
  },
  {
   "cell_type": "markdown",
   "id": "a3374e42-fc4f-434c-a33a-bdc88706422f",
   "metadata": {},
   "source": [
    "annotation data 에서 Mirlet7g 위치 찾기"
   ]
  },
  {
   "cell_type": "code",
   "execution_count": 5,
   "id": "acc9467e-1cb1-42e1-9e6b-809ba4090bd6",
   "metadata": {},
   "outputs": [
    {
     "name": "stdout",
     "output_type": "stream",
     "text": [
      "chr9\tENSEMBL\tgene\t106056039\t106056126\t.\t+\t.\tgene_id \"ENSMUSG00000065440.3\"; gene_type \"miRNA\"; gene_name \"Mirlet7g\"; level 3; mgi_id \"MGI:2676800\";\n",
      "chr9\tENSEMBL\ttranscript\t106056039\t106056126\t.\t+\t.\tgene_id \"ENSMUSG00000065440.3\"; transcript_id \"ENSMUST00000083506.3\"; gene_type \"miRNA\"; gene_name \"Mirlet7g\"; transcript_type \"miRNA\"; transcript_name \"Mirlet7g-201\"; level 3; transcript_support_level \"NA\"; mgi_id \"MGI:2676800\"; tag \"basic\";\n",
      "chr9\tENSEMBL\texon\t106056039\t106056126\t.\t+\t.\tgene_id \"ENSMUSG00000065440.3\"; transcript_id \"ENSMUST00000083506.3\"; gene_type \"miRNA\"; gene_name \"Mirlet7g\"; transcript_type \"miRNA\"; transcript_name \"Mirlet7g-201\"; exon_number 1; exon_id \"ENSMUSE00000522665.2\"; level 3; transcript_support_level \"NA\"; mgi_id \"MGI:2676800\"; tag \"basic\";\n"
     ]
    }
   ],
   "source": [
    "!grep -i mirlet7g ../datapack/gencode.gtf"
   ]
  },
  {
   "cell_type": "markdown",
   "id": "6f92c9a4-3876-45d8-bf9c-488048b788d0",
   "metadata": {},
   "source": [
    "CLIP-seq결과에서 Mirlet7g 위치로 추출하기"
   ]
  },
  {
   "cell_type": "code",
   "execution_count": 26,
   "id": "ff30a9e5-e3c6-4b20-b3b0-c962c01b67ec",
   "metadata": {},
   "outputs": [
    {
     "name": "stdout",
     "output_type": "stream",
     "text": [
      "     163\n"
     ]
    }
   ],
   "source": [
    "!samtools view -b -o CLIP-let7g.bam ../datapack/CLIP-35L33G.bam chr9:106056039-106056126\n",
    "!samtools view CLIP-let7g.bam | wc -l"
   ]
  },
  {
   "cell_type": "markdown",
   "id": "c2b6fcd1-0888-4887-ae0d-3f7c1cec3b68",
   "metadata": {},
   "source": [
    "_근데, 이렇게 chr위치를 지정해서 뽑은 결과가 왜 그 위치 바깥에 잇는 read까지 불러냈는지 잘 모르겠다._"
   ]
  },
  {
   "cell_type": "code",
   "execution_count": 9,
   "id": "31df8856-ed01-4165-998b-08d5df90ca8d",
   "metadata": {},
   "outputs": [
    {
     "name": "stdout",
     "output_type": "stream",
     "text": [
      "SRR458758.222778\t16\tchr9\t106007092\t38\t8M2D2M68520N16M1S\t*\t0\t0\tAGCAATAGCCCAAATCAGGGCTCATTT\t<AE?E=??8BB?DGBGG=4<?:477>=\tMD:Z:8^AA2T15\tNH:i:1\tHI:i:1\tNM:i:3\tSM:i:38\tXQ:i:40\tX2:i:0\tXO:Z:UU\tXS:A:-\n",
      "SRR458758.2480600\t16\tchr9\t106007092\t40\t8M2D2M68520N16M1S\t*\t0\t0\tAGCAATAGCCCAAATCAGGGCTCATTT\tIFHHHHHIIHHIIIHIIIHIEGIIGI?\tMD:Z:8^AA2T15\tNH:i:1\tHI:i:1\tNM:i:3\tSM:i:40\tXQ:i:40\tX2:i:0\tXO:Z:UU\tXS:A:-\n",
      "SRR458758.3458120\t16\tchr9\t106007092\t39\t8M2D2M68520N16M1S\t*\t0\t0\tAGCAATAGCCCAAATCAGGGCTCATTT\tFGHDHGHEBCEEEBHGHFGFEGDGGGB\tMD:Z:8^AA2T15\tNH:i:1\tHI:i:1\tNM:i:3\tSM:i:39\tXQ:i:40\tX2:i:0\tXO:Z:UU\tXS:A:-\n"
     ]
    }
   ],
   "source": [
    "!samtools view CLIP-let7g.bam | head -3"
   ]
  },
  {
   "cell_type": "markdown",
   "id": "4ae95a17-1462-4e01-ad41-c760fa6b8b19",
   "metadata": {},
   "source": [
    "_내가 파악해본 바에 의하면 파일업은 그 싱글 레퍼런스포지션별로 그 베이스의 파일업, 리드커버리지를 정리해서 보여주는 파일인거 같음_  \n",
    "_The SAMtools mpileup utility provides a summary of the coverage of mapped reads on a reference sequence at a single base pair resolution._"
   ]
  },
  {
   "cell_type": "code",
   "execution_count": 10,
   "id": "c3f4619c-d5b1-4395-b345-f91906112117",
   "metadata": {},
   "outputs": [
    {
     "name": "stdout",
     "output_type": "stream",
     "text": [
      "[mpileup] 1 samples in 1 input files\n",
      "   68548 CLIP-let7g.pileup\n"
     ]
    }
   ],
   "source": [
    "!samtools mpileup CLIP-let7g.bam > CLIP-let7g.pileup\n",
    "!wc -l CLIP-let7g.pileup"
   ]
  },
  {
   "cell_type": "markdown",
   "id": "4b80d85b-fedd-43f0-a13f-88615c50d6cd",
   "metadata": {},
   "source": [
    "pileup format은 다음과같다고 한다.\n",
    "* 1st column: Chromosome name\n",
    "* 2nd column: 1-based position on the chromosoem\n",
    "* 3rd column: Ref. base at this position (우리는 pileup할 때 -f 옵션을 안주었으므로 이건 다 N나옴)\n",
    "* 4th column: number of reads covering this position\n",
    "* 5th column: basereads\n",
    "* 6th column: quality"
   ]
  },
  {
   "cell_type": "markdown",
   "id": "0760ea0a-88b7-4e6d-989a-fbfa4dd092d7",
   "metadata": {},
   "source": [
    "_그럼 이 파일업 파일의 헤드랑 테일을 봤을 때 사실은 106,056,039 부터 106,056,126 위치의 결과가 나와야하는데 보니까 엄청 길게 나옴. 즉 68,548 bp의 파일업결과가 잇는거임 (106,075,639-106,007,092 +1)_  \n",
    "_이 문제가 위에서 나왔던 samtool에서 chr:위치 로 추출할 때 그 바깥까지 같이 찾은거랑 같은 맥락의 문제인 듯_"
   ]
  },
  {
   "cell_type": "code",
   "execution_count": 23,
   "id": "ed6d5192-67f6-46fd-8102-39357ace4e33",
   "metadata": {},
   "outputs": [
    {
     "name": "stdout",
     "output_type": "stream",
     "text": [
      "chr9\t106007092\tN\t9\t^Ga^Ia^Ha^Ia^Ga^Ga^Ha^Ia^Ia\t<IFIGGHII\n",
      "chr9\t106007093\tN\t9\tggggggggg\tAFGIEGDII\n",
      "chr9\t106007094\tN\t9\tccccccccc\tEHHIGAFEH\n",
      "chr9\t106075637\tN\t9\taaaaaaaaa\t7IGIGBCGI\n",
      "chr9\t106075638\tN\t9\tttttttttt\t7GGIGDEGI\n",
      "chr9\t106075639\tN\t9\tt$t$t$t$t$t$t$t$t$\t>IGFDDDGH\n"
     ]
    }
   ],
   "source": [
    "!head -3 CLIP-let7g.pileup ;tail -3 CLIP-let7g.pileup"
   ]
  },
  {
   "cell_type": "markdown",
   "id": "4f5d5d67-4cf8-4a70-9fcf-1b4453a58ee4",
   "metadata": {},
   "source": [
    "위에서 봤던거처럼 Mirlet7g의 위치인 106056039와 106056126 에 맵핑되는 결과들만 가져오기"
   ]
  },
  {
   "cell_type": "code",
   "execution_count": 19,
   "id": "d686cffb-6ee4-4f1d-ac74-5f36a679a0b3",
   "metadata": {},
   "outputs": [
    {
     "name": "stdout",
     "output_type": "stream",
     "text": [
      "      88 CLIP-let7g-gene.pileup\n"
     ]
    }
   ],
   "source": [
    "!awk '$2 >= 106056039 && $2 <= 106056126 {print $0; }' CLIP-let7g.pileup > CLIP-let7g-gene.pileup\n",
    "!wc -l CLIP-let7g-gene.pileup"
   ]
  },
  {
   "cell_type": "code",
   "execution_count": 20,
   "id": "76025f9d-32fa-44a1-abb5-087681469c72",
   "metadata": {
    "tags": []
   },
   "outputs": [
    {
     "name": "stdout",
     "output_type": "stream",
     "text": [
      "chr9\t106056117\tN\t138\t<<<<<<<<<CCCCCCCCCCCCCCCCCCCCCCCCCCCCCCCCCCCCCCCCCCCCCCCCCCCCCCCCCCCCCCCCCCCCCCCCCCCCCCCCCCCCCCCCCCCCCCCCCCCCCCCCCCCCCCCCCCCCCCCCCCCCCCCCC\tBHEIG?DIIHGHII:;HGIIDGGGIIBGEB?>H<GGIIIIDIIGFHIHH9IGG=GGHIDH?DGIBIIHHGGIEIGI8GIDHDG.GGHEDIIDIDGDHIDGIFGHG;DCDDHEE@I?CGG:IHGIBGIHIIDG@DHIGG\n",
      "chr9\t106056118\tN\t139\t<<<<<<<<<CCCCCCCCCCCCCCCCCCCCCCCCCCCCCCCCCCCCCCCCCCCCCCCCCCCCCCCCCCCCCCCCCCCCCCCCCCCCCCCCCCCCCCCCCCCCCCCCCCCCCCCCCCCCCCCCCCCCCCCCCCCCCCCCCC\tBHEIG?DIIHGHII3AHIIIDGGGIIB3EHFBH>GIIIIIIIIIHIIHHAIIGBDGHIDH?GIIGIIHHDIIHIGIGGI=BGG9GIHHHIIGI=IAIIGGIEHGIEBG@DHDE;IBDGG4IGGIGGIIIIGGGDGIH1G\n",
      "chr9\t106056119\tN\t138\t<<<<<<<<<TTTTTTTTTTTTTTTTTTTTTTTTTT$TTTT$TTTTTTTTTTTTTTT$TTTT$TTTTTTT$TTTTTTTTTTTTTTTTTTTTTTTTTTTTTTTTTTTTTTTTTTTTTTTTTTTTTTTTTTTTTTTTTTTTTTTTT\tBHEIG?DIIGEFII:/GIIEDDHDIIF>BH3<HBEGIHIGFIIIBIIBE:HHGD>EGGDH7BIIGGIHHDHIHDEIGEIDHGG;GIHGHHIGD:IGHD:GGEHH?3G87HD</I=DGG=IHHIHBIFII@<HDHHH1G\n",
      "chr9\t106056120\tN\t133\t<<<<<<<<<TTTTTTTTTTTTTTTTTTTTTTTTTTTT$TTTT$TTT$TTTTTTTTTT$TTTTTTTT$TTTTTTTTTTTT$T$TTTTTT$TTTT$TT$TTTTTTTTTTTTTTTTTTT$TTTTTTTTTTTTTTTTTTTTTTTTTTT\tBHEIG?DIIHFBII74BIIIGDIIIIA8DHECHBIIIIIIIIHIIHB?IDGGGFDH?GIIIIHH@GHHGEDDGIEHBEDIHHGIIGI:HBII8DIIHHIBDD;<HDD3HB?@G?HHIIHIIIIIB@HDHDH8G\n",
      "chr9\t106056121\tN\t118\t<<<<<<<<<GGGGGGGGGGGGGGGGGGGG$G$G$G$G$G$G$G$GGGGGG$GG$GGGG$GG$GGGG$G$GGG$GGG$GGG$GGGG$GGGGG$GGGGGGGGG$GGGGGG$GG$GGG$GGG$GGGG$G$GG$GGGGGG$GGGG$G$G$G$G$G$\tBHEIG?DIIB<EDI/7BHHFB<FGHI3?GG>HAIHIFEF@H<<2>D3EE;HBAIIIBH4IHG@DI>G482GGFHID:I9II@BH@>HE8@;<HGI:GGBIDEIBIGIIIE?G@EIH7G\n",
      "chr9\t106056122\tN\t88\t<<<<<<<<<C$C$C$C$C$C$C$C$C$C$C$C$C$CCCCCC$C$C$C$C$C$C$CCC$C$C$C$CC$C$CC$CC$C$C$C$C$C$C$C$C$C$C$C$C$C$CC$C$C$C$C$C$CC$CC$C$CCC$C$C$C$C$CCCCC$CCC$C\tBHEIG?DIIEEGIIC;GIHEGBIIIIB1=FII?FEIGGGHDBIG=HHIIEBHD>EIHIG=I:HGBIIEF?E;DB3HB<GIHIHHEADF\n",
      "chr9\t106056123\tN\t31\t<<<<<<<<<CCCCCCCCCCCCCCCCCCCCCC\tBHEIG?DIIIIII>GIGGIGGD>BIHHHIEH\n",
      "chr9\t106056124\tN\t31\t<<<<<<<<<AAAAAAAAAAAAAAAAAAAAAA\tBHEIG?DIIIIHIGGIGGGIG:9DDBIEGFH\n",
      "chr9\t106056125\tN\t31\t<<<<<<<<<GGGGGGGGGGGGGGGGGGGGGG\tBHEIG?DIIIIIIGGE@GFIGD;GIGIIFHD\n",
      "chr9\t106056126\tN\t30\t<<<<<<<<<GGGGGGGGGGGGGGGGGGGGG\tBHEIG?DIIIIGHGHIGHI>G;GGGIGIHG\n"
     ]
    }
   ],
   "source": [
    "!tail CLIP-let7g-gene.pileup"
   ]
  },
  {
   "cell_type": "code",
   "execution_count": 27,
   "id": "01d687b2-a387-49a0-a0cb-ca1d6c10f183",
   "metadata": {},
   "outputs": [
    {
     "data": {
      "text/html": [
       "<div>\n",
       "<style scoped>\n",
       "    .dataframe tbody tr th:only-of-type {\n",
       "        vertical-align: middle;\n",
       "    }\n",
       "\n",
       "    .dataframe tbody tr th {\n",
       "        vertical-align: top;\n",
       "    }\n",
       "\n",
       "    .dataframe thead th {\n",
       "        text-align: right;\n",
       "    }\n",
       "</style>\n",
       "<table border=\"1\" class=\"dataframe\">\n",
       "  <thead>\n",
       "    <tr style=\"text-align: right;\">\n",
       "      <th></th>\n",
       "      <th>chrom</th>\n",
       "      <th>pos</th>\n",
       "      <th>_ref</th>\n",
       "      <th>count</th>\n",
       "      <th>basereads</th>\n",
       "      <th>quals</th>\n",
       "    </tr>\n",
       "  </thead>\n",
       "  <tbody>\n",
       "    <tr>\n",
       "      <th>83</th>\n",
       "      <td>chr9</td>\n",
       "      <td>106056122</td>\n",
       "      <td>N</td>\n",
       "      <td>88</td>\n",
       "      <td>&lt;&lt;&lt;&lt;&lt;&lt;&lt;&lt;&lt;C$C$C$C$C$C$C$C$C$C$C$C$C$CCCCCC$C$C$...</td>\n",
       "      <td>BHEIG?DIIEEGIIC;GIHEGBIIIIB1=FII?FEIGGGHDBIG=H...</td>\n",
       "    </tr>\n",
       "    <tr>\n",
       "      <th>84</th>\n",
       "      <td>chr9</td>\n",
       "      <td>106056123</td>\n",
       "      <td>N</td>\n",
       "      <td>31</td>\n",
       "      <td>&lt;&lt;&lt;&lt;&lt;&lt;&lt;&lt;&lt;CCCCCCCCCCCCCCCCCCCCCC</td>\n",
       "      <td>BHEIG?DIIIIII&gt;GIGGIGGD&gt;BIHHHIEH</td>\n",
       "    </tr>\n",
       "    <tr>\n",
       "      <th>85</th>\n",
       "      <td>chr9</td>\n",
       "      <td>106056124</td>\n",
       "      <td>N</td>\n",
       "      <td>31</td>\n",
       "      <td>&lt;&lt;&lt;&lt;&lt;&lt;&lt;&lt;&lt;AAAAAAAAAAAAAAAAAAAAAA</td>\n",
       "      <td>BHEIG?DIIIIHIGGIGGGIG:9DDBIEGFH</td>\n",
       "    </tr>\n",
       "    <tr>\n",
       "      <th>86</th>\n",
       "      <td>chr9</td>\n",
       "      <td>106056125</td>\n",
       "      <td>N</td>\n",
       "      <td>31</td>\n",
       "      <td>&lt;&lt;&lt;&lt;&lt;&lt;&lt;&lt;&lt;GGGGGGGGGGGGGGGGGGGGGG</td>\n",
       "      <td>BHEIG?DIIIIIIGGE@GFIGD;GIGIIFHD</td>\n",
       "    </tr>\n",
       "    <tr>\n",
       "      <th>87</th>\n",
       "      <td>chr9</td>\n",
       "      <td>106056126</td>\n",
       "      <td>N</td>\n",
       "      <td>30</td>\n",
       "      <td>&lt;&lt;&lt;&lt;&lt;&lt;&lt;&lt;&lt;GGGGGGGGGGGGGGGGGGGGG</td>\n",
       "      <td>BHEIG?DIIIIGHGHIGHI&gt;G;GGGIGIHG</td>\n",
       "    </tr>\n",
       "  </tbody>\n",
       "</table>\n",
       "</div>"
      ],
      "text/plain": [
       "   chrom        pos _ref  count  \\\n",
       "83  chr9  106056122    N     88   \n",
       "84  chr9  106056123    N     31   \n",
       "85  chr9  106056124    N     31   \n",
       "86  chr9  106056125    N     31   \n",
       "87  chr9  106056126    N     30   \n",
       "\n",
       "                                            basereads  \\\n",
       "83  <<<<<<<<<C$C$C$C$C$C$C$C$C$C$C$C$C$CCCCCC$C$C$...   \n",
       "84                    <<<<<<<<<CCCCCCCCCCCCCCCCCCCCCC   \n",
       "85                    <<<<<<<<<AAAAAAAAAAAAAAAAAAAAAA   \n",
       "86                    <<<<<<<<<GGGGGGGGGGGGGGGGGGGGGG   \n",
       "87                     <<<<<<<<<GGGGGGGGGGGGGGGGGGGGG   \n",
       "\n",
       "                                                quals  \n",
       "83  BHEIG?DIIEEGIIC;GIHEGBIIIIB1=FII?FEIGGGHDBIG=H...  \n",
       "84                    BHEIG?DIIIIII>GIGGIGGD>BIHHHIEH  \n",
       "85                    BHEIG?DIIIIHIGGIGGGIG:9DDBIEGFH  \n",
       "86                    BHEIG?DIIIIIIGGE@GFIGD;GIGIIFHD  \n",
       "87                     BHEIG?DIIIIGHGHIGHI>G;GGGIGIHG  "
      ]
     },
     "execution_count": 27,
     "metadata": {},
     "output_type": "execute_result"
    }
   ],
   "source": [
    "import pandas as pd\n",
    "pileup_7g = pd.read_csv(\"CLIP-let7g-gene.pileup\",\n",
    "                        sep ='\\t', names = [\"chrom\", \"pos\", \"_ref\", \"count\", \"basereads\", \"quals\"])\n",
    "pileup_7g.tail()"
   ]
  },
  {
   "cell_type": "code",
   "execution_count": 28,
   "id": "bd1f8c0a-2c68-43f5-b5f4-227d2a5aec16",
   "metadata": {},
   "outputs": [],
   "source": [
    "import re\n",
    "toremove = re.compile('[<>*#^$]')\n",
    "pileup_7g[\"matches\"] = pileup_7g[\"basereads\"].apply(lambda x: toremove.sub(\"\", x))"
   ]
  },
  {
   "cell_type": "code",
   "execution_count": 29,
   "id": "cf112354-98a9-4210-8b06-5c9366d30871",
   "metadata": {},
   "outputs": [
    {
     "data": {
      "text/html": [
       "<div>\n",
       "<style scoped>\n",
       "    .dataframe tbody tr th:only-of-type {\n",
       "        vertical-align: middle;\n",
       "    }\n",
       "\n",
       "    .dataframe tbody tr th {\n",
       "        vertical-align: top;\n",
       "    }\n",
       "\n",
       "    .dataframe thead th {\n",
       "        text-align: right;\n",
       "    }\n",
       "</style>\n",
       "<table border=\"1\" class=\"dataframe\">\n",
       "  <thead>\n",
       "    <tr style=\"text-align: right;\">\n",
       "      <th></th>\n",
       "      <th>chrom</th>\n",
       "      <th>pos</th>\n",
       "      <th>matches</th>\n",
       "    </tr>\n",
       "  </thead>\n",
       "  <tbody>\n",
       "    <tr>\n",
       "      <th>0</th>\n",
       "      <td>chr9</td>\n",
       "      <td>106056039</td>\n",
       "      <td></td>\n",
       "    </tr>\n",
       "    <tr>\n",
       "      <th>1</th>\n",
       "      <td>chr9</td>\n",
       "      <td>106056040</td>\n",
       "      <td></td>\n",
       "    </tr>\n",
       "    <tr>\n",
       "      <th>2</th>\n",
       "      <td>chr9</td>\n",
       "      <td>106056041</td>\n",
       "      <td></td>\n",
       "    </tr>\n",
       "    <tr>\n",
       "      <th>3</th>\n",
       "      <td>chr9</td>\n",
       "      <td>106056042</td>\n",
       "      <td></td>\n",
       "    </tr>\n",
       "    <tr>\n",
       "      <th>4</th>\n",
       "      <td>chr9</td>\n",
       "      <td>106056043</td>\n",
       "      <td></td>\n",
       "    </tr>\n",
       "    <tr>\n",
       "      <th>...</th>\n",
       "      <td>...</td>\n",
       "      <td>...</td>\n",
       "      <td>...</td>\n",
       "    </tr>\n",
       "    <tr>\n",
       "      <th>83</th>\n",
       "      <td>chr9</td>\n",
       "      <td>106056122</td>\n",
       "      <td>CCCCCCCCCCCCCCCCCCCCCCCCCCCCCCCCCCCCCCCCCCCCCC...</td>\n",
       "    </tr>\n",
       "    <tr>\n",
       "      <th>84</th>\n",
       "      <td>chr9</td>\n",
       "      <td>106056123</td>\n",
       "      <td>CCCCCCCCCCCCCCCCCCCCCC</td>\n",
       "    </tr>\n",
       "    <tr>\n",
       "      <th>85</th>\n",
       "      <td>chr9</td>\n",
       "      <td>106056124</td>\n",
       "      <td>AAAAAAAAAAAAAAAAAAAAAA</td>\n",
       "    </tr>\n",
       "    <tr>\n",
       "      <th>86</th>\n",
       "      <td>chr9</td>\n",
       "      <td>106056125</td>\n",
       "      <td>GGGGGGGGGGGGGGGGGGGGGG</td>\n",
       "    </tr>\n",
       "    <tr>\n",
       "      <th>87</th>\n",
       "      <td>chr9</td>\n",
       "      <td>106056126</td>\n",
       "      <td>GGGGGGGGGGGGGGGGGGGGG</td>\n",
       "    </tr>\n",
       "  </tbody>\n",
       "</table>\n",
       "<p>88 rows × 3 columns</p>\n",
       "</div>"
      ],
      "text/plain": [
       "   chrom        pos                                            matches\n",
       "0   chr9  106056039                                                   \n",
       "1   chr9  106056040                                                   \n",
       "2   chr9  106056041                                                   \n",
       "3   chr9  106056042                                                   \n",
       "4   chr9  106056043                                                   \n",
       "..   ...        ...                                                ...\n",
       "83  chr9  106056122  CCCCCCCCCCCCCCCCCCCCCCCCCCCCCCCCCCCCCCCCCCCCCC...\n",
       "84  chr9  106056123                             CCCCCCCCCCCCCCCCCCCCCC\n",
       "85  chr9  106056124                             AAAAAAAAAAAAAAAAAAAAAA\n",
       "86  chr9  106056125                             GGGGGGGGGGGGGGGGGGGGGG\n",
       "87  chr9  106056126                              GGGGGGGGGGGGGGGGGGGGG\n",
       "\n",
       "[88 rows x 3 columns]"
      ]
     },
     "execution_count": 29,
     "metadata": {},
     "output_type": "execute_result"
    }
   ],
   "source": [
    "pileup_7g[[\"chrom\", \"pos\", \"matches\"]]"
   ]
  },
  {
   "cell_type": "markdown",
   "id": "af0161bb-0e3f-48b2-810b-20ad7de54860",
   "metadata": {},
   "source": [
    "_그러면 이제 예시로 Mirlet7g gene에서 106056094위치의 matched or substituted coverage를 확인해보자_"
   ]
  },
  {
   "cell_type": "code",
   "execution_count": 37,
   "id": "717dba6a-4a3d-450a-b2c5-57b3957fe831",
   "metadata": {},
   "outputs": [],
   "source": [
    "pileup_7g.to_excel(\"test.xlsx\")"
   ]
  },
  {
   "cell_type": "code",
   "execution_count": 34,
   "id": "dd5fe318-bcd2-412f-a856-567a48cf901f",
   "metadata": {},
   "outputs": [
    {
     "data": {
      "text/plain": [
       "'GGGGGGGGGGGGGGGGGGGGGGGGGGGGGGGGGGGGGGGGGGGGGGGGGGGGGGGGGGGGGGGGGGGGGGGGGGGGGGGGGGGGGGGGGGGGGGGGGGGGGGGGGGGGGGGGGGGGGGGGGGGGGGGGGGGGGGG'"
      ]
     },
     "execution_count": 34,
     "metadata": {},
     "output_type": "execute_result"
    }
   ],
   "source": [
    "pileup_7g[pileup_7g[\"pos\"] == 106056097].iloc[0][\"matches\"]"
   ]
  },
  {
   "cell_type": "markdown",
   "id": "b2aa779b-129b-4c55-9780-5efd6f17e597",
   "metadata": {},
   "source": [
    "1. 각 position별로 base수를 셉니다.\n",
    "2. 각 position별로 Shannon entropy를 계산합니다.\n",
    "3. 계산한 Shannon entropy를 bedgraph format으로 출력합니다. 말은 복잡해도 실제로는 간단합니다. 4칸짜리를 만드시면 됩니다.\n",
    "4. 결과 파일을 본인의 Google Drive에서 가져옵니다.\n",
    "5. UCSC Genome Browser에 접속해서 Genome은 mm39로 선택합니다.\n",
    "6. 그래프 아랫쪽의 add custom tracks 버튼을 누릅니다.\n",
    "7. Paste URLs or data 옆의 Choose File 버튼을 누르고 8. 우리가 만든 bedgraph 파일을 업로드 합니다.\n",
    "9. 그리고 이리 저리 감상해 보다가 View 메뉴의 PDF/PS 를 눌러서 인증샷을 한 번 찍습니다.\n",
    "10. Mirlet7d와 Mirlet7f-1도 한 번 해 봅니다."
   ]
  },
  {
   "cell_type": "code",
   "execution_count": null,
   "id": "45824d1d-0d62-45a4-9f8d-881dc9181386",
   "metadata": {},
   "outputs": [],
   "source": []
  }
 ],
 "metadata": {
  "kernelspec": {
   "display_name": "bilab",
   "language": "python",
   "name": "bilab"
  },
  "language_info": {
   "codemirror_mode": {
    "name": "ipython",
    "version": 3
   },
   "file_extension": ".py",
   "mimetype": "text/x-python",
   "name": "python",
   "nbconvert_exporter": "python",
   "pygments_lexer": "ipython3",
   "version": "3.9.2"
  }
 },
 "nbformat": 4,
 "nbformat_minor": 5
}
